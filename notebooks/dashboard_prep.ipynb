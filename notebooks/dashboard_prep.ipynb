{
 "cells": [
  {
   "cell_type": "markdown",
   "id": "b5f1380e-d64d-4bf3-9444-39f661d1ed48",
   "metadata": {},
   "source": [
    "# Evidently Dashboard Prep"
   ]
  },
  {
   "cell_type": "code",
   "execution_count": 42,
   "id": "05990e51-4bcd-4c90-9e75-5718fe57b66a",
   "metadata": {
    "tags": []
   },
   "outputs": [
    {
     "name": "stdout",
     "output_type": "stream",
     "text": [
      "The autoreload extension is already loaded. To reload it, use:\n",
      "  %reload_ext autoreload\n",
      "The lab_black extension is already loaded. To reload it, use:\n",
      "  %reload_ext lab_black\n"
     ]
    }
   ],
   "source": [
    "import os\n",
    "import sys\n",
    "import cdsw\n",
    "import pickle\n",
    "import numpy as np\n",
    "import pandas as pd\n",
    "from pandas.tseries.offsets import DateOffset\n",
    "\n",
    "# Install cmlapi package\n",
    "try:\n",
    "    import cmlapi\n",
    "except ModuleNotFoundError:\n",
    "    cluster = os.getenv(\"CDSW_API_URL\")[:-1] + \"2\"\n",
    "    !pip3 install {cluster}/python.tar.gz\n",
    "    import cmlapi\n",
    "\n",
    "from utils.utils import get_latest_deployment_details\n",
    "from utils.inference_utils import ThreadedModelRequest, cast_date_as_str_for_json\n",
    "\n",
    "%load_ext autoreload\n",
    "%autoreload 2\n",
    "%load_ext lab_black"
   ]
  },
  {
   "cell_type": "markdown",
   "id": "9f58cdd0-96d3-4a66-8398-d1849a6b80ad",
   "metadata": {},
   "source": [
    "## Simulation"
   ]
  },
  {
   "cell_type": "markdown",
   "id": "c7eb2ff2-9e34-4aea-a1bc-5f683d027ed7",
   "metadata": {},
   "source": [
    "### 1. Score Train Data"
   ]
  },
  {
   "cell_type": "code",
   "execution_count": 43,
   "id": "d40c3d88-0a0f-43c7-94da-24db98c79baa",
   "metadata": {},
   "outputs": [],
   "source": [
    "# format train data for inference\n",
    "train_df = pd.read_pickle(\"../data/working/train_df.pkl\")\n",
    "train_records = cast_date_as_str_for_json(train_df).to_dict(orient=\"records\")"
   ]
  },
  {
   "cell_type": "code",
   "execution_count": 44,
   "id": "efe9e39b-3b6f-45b8-b43e-1b7cfee70251",
   "metadata": {},
   "outputs": [],
   "source": [
    "# obtain model deployment info\n",
    "client = cmlapi.default_client()\n",
    "latest_deployment_details = get_latest_deployment_details(\n",
    "    client=client, model_name=\"Price Regressor6\"\n",
    ")"
   ]
  },
  {
   "cell_type": "code",
   "execution_count": 45,
   "id": "e8a4c3db-faef-4e76-80c6-846a480a6af4",
   "metadata": {},
   "outputs": [
    {
     "data": {
      "text/plain": [
       "{'model_name': 'Price Regressor6',\n",
       " 'model_id': '295a74f2-83b8-46ea-a5ca-48c9818f4dce',\n",
       " 'model_crn': 'crn:cdp:ml:us-west-1:12a0079b-1591-4ca0-b721-a446bda74e67:workspace:1e08299d-97ac-4d5e-8c21-d77745ce0a1c/295a74f2-83b8-46ea-a5ca-48c9818f4dce',\n",
       " 'model_access_key': 'ma6q5t33g2zd91pjlim2hvccmgx06dre',\n",
       " 'latest_build_id': '33310a70-366f-4e41-ac7e-0e1d92cc8b1f',\n",
       " 'latest_deployment_crn': 'crn:cdp:ml:us-west-1:12a0079b-1591-4ca0-b721-a446bda74e67:workspace:1e08299d-97ac-4d5e-8c21-d77745ce0a1c/11392818-9bc3-4cf2-8170-cd3cdcc83a9a'}"
      ]
     },
     "execution_count": 45,
     "metadata": {},
     "output_type": "execute_result"
    }
   ],
   "source": [
    "latest_deployment_details"
   ]
  },
  {
   "cell_type": "code",
   "execution_count": 46,
   "id": "ef96f877-dc02-456f-a2e1-7c3a2040f875",
   "metadata": {},
   "outputs": [],
   "source": [
    "data_input = {\"record\": train_records[0]}"
   ]
  },
  {
   "cell_type": "code",
   "execution_count": 47,
   "id": "e0f5da57-12cb-440f-924c-5ec652d3f3ef",
   "metadata": {},
   "outputs": [
    {
     "ename": "RuntimeError",
     "evalue": "Response_status_code: '500' , response_body: {\"errors\":{\"error while calling model\":\"Model is not reachable\"}} ",
     "output_type": "error",
     "traceback": [
      "\u001b[0;31m---------------------------------------------------------------------------\u001b[0m",
      "\u001b[0;31mRuntimeError\u001b[0m                              Traceback (most recent call last)",
      "\u001b[0;32m<ipython-input-47-94252870b0de>\u001b[0m in \u001b[0;36m<module>\u001b[0;34m\u001b[0m\n\u001b[1;32m      1\u001b[0m cdsw.call_model(\n\u001b[1;32m      2\u001b[0m             \u001b[0mmodel_access_key\u001b[0m\u001b[0;34m=\u001b[0m\u001b[0mlatest_deployment_details\u001b[0m\u001b[0;34m[\u001b[0m\u001b[0;34m\"model_access_key\"\u001b[0m\u001b[0;34m]\u001b[0m\u001b[0;34m,\u001b[0m\u001b[0;34m\u001b[0m\u001b[0;34m\u001b[0m\u001b[0m\n\u001b[0;32m----> 3\u001b[0;31m             \u001b[0mipt\u001b[0m\u001b[0;34m=\u001b[0m\u001b[0mdata_input\u001b[0m\u001b[0;34m,\u001b[0m\u001b[0;34m\u001b[0m\u001b[0;34m\u001b[0m\u001b[0m\n\u001b[0m\u001b[1;32m      4\u001b[0m         )\n",
      "\u001b[0;32m/usr/local/lib/python3.6/site-packages/cdsw.py\u001b[0m in \u001b[0;36mcall_model\u001b[0;34m(model_access_key, ipt, api_key)\u001b[0m\n\u001b[1;32m    230\u001b[0m     )\n\u001b[1;32m    231\u001b[0m \u001b[0;34m\u001b[0m\u001b[0m\n\u001b[0;32m--> 232\u001b[0;31m     \u001b[0;32mreturn\u001b[0m \u001b[0m_resp_json\u001b[0m\u001b[0;34m(\u001b[0m\u001b[0mr\u001b[0m\u001b[0;34m)\u001b[0m\u001b[0;34m\u001b[0m\u001b[0;34m\u001b[0m\u001b[0m\n\u001b[0m\u001b[1;32m    233\u001b[0m \u001b[0;34m\u001b[0m\u001b[0m\n\u001b[1;32m    234\u001b[0m \u001b[0;32mdef\u001b[0m \u001b[0m_get_model_deployment_crn\u001b[0m\u001b[0;34m(\u001b[0m\u001b[0mdev\u001b[0m\u001b[0;34m=\u001b[0m\u001b[0;32mFalse\u001b[0m\u001b[0;34m)\u001b[0m\u001b[0;34m:\u001b[0m\u001b[0;34m\u001b[0m\u001b[0;34m\u001b[0m\u001b[0m\n",
      "\u001b[0;32m/usr/local/lib/python3.6/site-packages/cdsw.py\u001b[0m in \u001b[0;36m_resp_json\u001b[0;34m(resp)\u001b[0m\n\u001b[1;32m    137\u001b[0m         \u001b[0;32mreturn\u001b[0m \u001b[0mresp\u001b[0m\u001b[0;34m.\u001b[0m\u001b[0mjson\u001b[0m\u001b[0;34m(\u001b[0m\u001b[0;34m)\u001b[0m\u001b[0;34m\u001b[0m\u001b[0;34m\u001b[0m\u001b[0m\n\u001b[1;32m    138\u001b[0m     \u001b[0;32melse\u001b[0m\u001b[0;34m:\u001b[0m\u001b[0;34m\u001b[0m\u001b[0;34m\u001b[0m\u001b[0m\n\u001b[0;32m--> 139\u001b[0;31m         \u001b[0;32mraise\u001b[0m \u001b[0mRuntimeError\u001b[0m\u001b[0;34m(\u001b[0m\u001b[0;34m\"Response_status_code: '{}' , response_body: {} \"\u001b[0m\u001b[0;34m.\u001b[0m\u001b[0mformat\u001b[0m\u001b[0;34m(\u001b[0m\u001b[0mresp\u001b[0m\u001b[0;34m.\u001b[0m\u001b[0mstatus_code\u001b[0m\u001b[0;34m,\u001b[0m \u001b[0mresp\u001b[0m\u001b[0;34m.\u001b[0m\u001b[0mtext\u001b[0m\u001b[0;34m)\u001b[0m\u001b[0;34m)\u001b[0m\u001b[0;34m\u001b[0m\u001b[0;34m\u001b[0m\u001b[0m\n\u001b[0m\u001b[1;32m    140\u001b[0m \u001b[0;34m\u001b[0m\u001b[0m\n\u001b[1;32m    141\u001b[0m \u001b[0;32mdef\u001b[0m \u001b[0mtrack_file\u001b[0m\u001b[0;34m(\u001b[0m\u001b[0msrc\u001b[0m\u001b[0;34m)\u001b[0m\u001b[0;34m:\u001b[0m\u001b[0;34m\u001b[0m\u001b[0;34m\u001b[0m\u001b[0m\n",
      "\u001b[0;31mRuntimeError\u001b[0m: Response_status_code: '500' , response_body: {\"errors\":{\"error while calling model\":\"Model is not reachable\"}} "
     ]
    }
   ],
   "source": [
    "cdsw.call_model(\n",
    "            model_access_key=latest_deployment_details[\"model_access_key\"],\n",
    "            ipt=data_input,\n",
    "        )"
   ]
  },
  {
   "cell_type": "code",
   "execution_count": null,
   "id": "7a381334-c821-433b-8329-c5224bbfb3a3",
   "metadata": {},
   "outputs": [],
   "source": []
  },
  {
   "cell_type": "code",
   "execution_count": 34,
   "id": "3a4aea9c-108d-4a6a-9988-39e1f8ae4315",
   "metadata": {},
   "outputs": [],
   "source": [
    "with open(\"../model.pkl\", \"rb\") as f:\n",
    "    model = pickle.load(f)"
   ]
  },
  {
   "cell_type": "code",
   "execution_count": 35,
   "id": "b085579d-2c37-427e-b477-890179f96146",
   "metadata": {},
   "outputs": [],
   "source": [
    "data_input = {\"record\": train_records[8]}"
   ]
  },
  {
   "cell_type": "code",
   "execution_count": 39,
   "id": "130f7344-41fe-4cc3-8500-f54b6999addf",
   "metadata": {},
   "outputs": [],
   "source": [
    "df = pd.DataFrame.from_records([data_input[\"record\"]])  # .drop(\"price\", axis=1)"
   ]
  },
  {
   "cell_type": "code",
   "execution_count": 40,
   "id": "106fde2d-68a0-459f-9371-6a88a5db7b78",
   "metadata": {},
   "outputs": [
    {
     "data": {
      "text/html": [
       "<div>\n",
       "<style scoped>\n",
       "    .dataframe tbody tr th:only-of-type {\n",
       "        vertical-align: middle;\n",
       "    }\n",
       "\n",
       "    .dataframe tbody tr th {\n",
       "        vertical-align: top;\n",
       "    }\n",
       "\n",
       "    .dataframe thead th {\n",
       "        text-align: right;\n",
       "    }\n",
       "</style>\n",
       "<table border=\"1\" class=\"dataframe\">\n",
       "  <thead>\n",
       "    <tr style=\"text-align: right;\">\n",
       "      <th></th>\n",
       "      <th>id</th>\n",
       "      <th>price</th>\n",
       "      <th>bedrooms</th>\n",
       "      <th>bathrooms</th>\n",
       "      <th>sqft_living</th>\n",
       "      <th>sqft_lot</th>\n",
       "      <th>floors</th>\n",
       "      <th>waterfront</th>\n",
       "      <th>view</th>\n",
       "      <th>condition</th>\n",
       "      <th>...</th>\n",
       "      <th>sqft_basement</th>\n",
       "      <th>yr_built</th>\n",
       "      <th>yr_renovated</th>\n",
       "      <th>zipcode</th>\n",
       "      <th>lat</th>\n",
       "      <th>long</th>\n",
       "      <th>sqft_living15</th>\n",
       "      <th>sqft_lot15</th>\n",
       "      <th>date_sold</th>\n",
       "      <th>date_listed</th>\n",
       "    </tr>\n",
       "  </thead>\n",
       "  <tbody>\n",
       "    <tr>\n",
       "      <th>0</th>\n",
       "      <td>6600780130</td>\n",
       "      <td>367500.0</td>\n",
       "      <td>4</td>\n",
       "      <td>3.0</td>\n",
       "      <td>3110</td>\n",
       "      <td>7231</td>\n",
       "      <td>2.0</td>\n",
       "      <td>0</td>\n",
       "      <td>0</td>\n",
       "      <td>3</td>\n",
       "      <td>...</td>\n",
       "      <td>0</td>\n",
       "      <td>1997</td>\n",
       "      <td>0</td>\n",
       "      <td>98092</td>\n",
       "      <td>47.3279</td>\n",
       "      <td>-122.191</td>\n",
       "      <td>2820</td>\n",
       "      <td>7311</td>\n",
       "      <td>2014-05-02</td>\n",
       "      <td>2014-03-22</td>\n",
       "    </tr>\n",
       "  </tbody>\n",
       "</table>\n",
       "<p>1 rows × 22 columns</p>\n",
       "</div>"
      ],
      "text/plain": [
       "           id     price  bedrooms  bathrooms  sqft_living  sqft_lot  floors  \\\n",
       "0  6600780130  367500.0         4        3.0         3110      7231     2.0   \n",
       "\n",
       "   waterfront  view  condition  ...  sqft_basement  yr_built  yr_renovated  \\\n",
       "0           0     0          3  ...              0      1997             0   \n",
       "\n",
       "   zipcode      lat     long  sqft_living15  sqft_lot15   date_sold  \\\n",
       "0    98092  47.3279 -122.191           2820        7311  2014-05-02   \n",
       "\n",
       "   date_listed  \n",
       "0   2014-03-22  \n",
       "\n",
       "[1 rows x 22 columns]"
      ]
     },
     "execution_count": 40,
     "metadata": {},
     "output_type": "execute_result"
    }
   ],
   "source": [
    "df"
   ]
  },
  {
   "cell_type": "code",
   "execution_count": 41,
   "id": "f1af2eda-f427-4276-8006-6a303cc62cd4",
   "metadata": {},
   "outputs": [
    {
     "ename": "ValueError",
     "evalue": "Column ordering must be equal for fit and for transform when using the remainder keyword",
     "output_type": "error",
     "traceback": [
      "\u001b[0;31m---------------------------------------------------------------------------\u001b[0m",
      "\u001b[0;31mValueError\u001b[0m                                Traceback (most recent call last)",
      "\u001b[0;32m<ipython-input-41-9c13946210d0>\u001b[0m in \u001b[0;36m<module>\u001b[0;34m\u001b[0m\n\u001b[0;32m----> 1\u001b[0;31m \u001b[0mmodel\u001b[0m\u001b[0;34m.\u001b[0m\u001b[0mpredict\u001b[0m\u001b[0;34m(\u001b[0m\u001b[0mdf\u001b[0m\u001b[0;34m)\u001b[0m\u001b[0;34m.\u001b[0m\u001b[0mitem\u001b[0m\u001b[0;34m(\u001b[0m\u001b[0;34m)\u001b[0m\u001b[0;34m\u001b[0m\u001b[0;34m\u001b[0m\u001b[0m\n\u001b[0m",
      "\u001b[0;32m~/.local/lib/python3.6/site-packages/sklearn/utils/metaestimators.py\u001b[0m in \u001b[0;36m<lambda>\u001b[0;34m(*args, **kwargs)\u001b[0m\n\u001b[1;32m    117\u001b[0m \u001b[0;34m\u001b[0m\u001b[0m\n\u001b[1;32m    118\u001b[0m         \u001b[0;31m# lambda, but not partial, allows help() to work with update_wrapper\u001b[0m\u001b[0;34m\u001b[0m\u001b[0;34m\u001b[0m\u001b[0;34m\u001b[0m\u001b[0m\n\u001b[0;32m--> 119\u001b[0;31m         \u001b[0mout\u001b[0m \u001b[0;34m=\u001b[0m \u001b[0;32mlambda\u001b[0m \u001b[0;34m*\u001b[0m\u001b[0margs\u001b[0m\u001b[0;34m,\u001b[0m \u001b[0;34m**\u001b[0m\u001b[0mkwargs\u001b[0m\u001b[0;34m:\u001b[0m \u001b[0mself\u001b[0m\u001b[0;34m.\u001b[0m\u001b[0mfn\u001b[0m\u001b[0;34m(\u001b[0m\u001b[0mobj\u001b[0m\u001b[0;34m,\u001b[0m \u001b[0;34m*\u001b[0m\u001b[0margs\u001b[0m\u001b[0;34m,\u001b[0m \u001b[0;34m**\u001b[0m\u001b[0mkwargs\u001b[0m\u001b[0;34m)\u001b[0m\u001b[0;34m\u001b[0m\u001b[0;34m\u001b[0m\u001b[0m\n\u001b[0m\u001b[1;32m    120\u001b[0m         \u001b[0;31m# update the docstring of the returned function\u001b[0m\u001b[0;34m\u001b[0m\u001b[0;34m\u001b[0m\u001b[0;34m\u001b[0m\u001b[0m\n\u001b[1;32m    121\u001b[0m         \u001b[0mupdate_wrapper\u001b[0m\u001b[0;34m(\u001b[0m\u001b[0mout\u001b[0m\u001b[0;34m,\u001b[0m \u001b[0mself\u001b[0m\u001b[0;34m.\u001b[0m\u001b[0mfn\u001b[0m\u001b[0;34m)\u001b[0m\u001b[0;34m\u001b[0m\u001b[0;34m\u001b[0m\u001b[0m\n",
      "\u001b[0;32m~/.local/lib/python3.6/site-packages/sklearn/pipeline.py\u001b[0m in \u001b[0;36mpredict\u001b[0;34m(self, X, **predict_params)\u001b[0m\n\u001b[1;32m    405\u001b[0m         \u001b[0mXt\u001b[0m \u001b[0;34m=\u001b[0m \u001b[0mX\u001b[0m\u001b[0;34m\u001b[0m\u001b[0;34m\u001b[0m\u001b[0m\n\u001b[1;32m    406\u001b[0m         \u001b[0;32mfor\u001b[0m \u001b[0m_\u001b[0m\u001b[0;34m,\u001b[0m \u001b[0mname\u001b[0m\u001b[0;34m,\u001b[0m \u001b[0mtransform\u001b[0m \u001b[0;32min\u001b[0m \u001b[0mself\u001b[0m\u001b[0;34m.\u001b[0m\u001b[0m_iter\u001b[0m\u001b[0;34m(\u001b[0m\u001b[0mwith_final\u001b[0m\u001b[0;34m=\u001b[0m\u001b[0;32mFalse\u001b[0m\u001b[0;34m)\u001b[0m\u001b[0;34m:\u001b[0m\u001b[0;34m\u001b[0m\u001b[0;34m\u001b[0m\u001b[0m\n\u001b[0;32m--> 407\u001b[0;31m             \u001b[0mXt\u001b[0m \u001b[0;34m=\u001b[0m \u001b[0mtransform\u001b[0m\u001b[0;34m.\u001b[0m\u001b[0mtransform\u001b[0m\u001b[0;34m(\u001b[0m\u001b[0mXt\u001b[0m\u001b[0;34m)\u001b[0m\u001b[0;34m\u001b[0m\u001b[0;34m\u001b[0m\u001b[0m\n\u001b[0m\u001b[1;32m    408\u001b[0m         \u001b[0;32mreturn\u001b[0m \u001b[0mself\u001b[0m\u001b[0;34m.\u001b[0m\u001b[0msteps\u001b[0m\u001b[0;34m[\u001b[0m\u001b[0;34m-\u001b[0m\u001b[0;36m1\u001b[0m\u001b[0;34m]\u001b[0m\u001b[0;34m[\u001b[0m\u001b[0;34m-\u001b[0m\u001b[0;36m1\u001b[0m\u001b[0;34m]\u001b[0m\u001b[0;34m.\u001b[0m\u001b[0mpredict\u001b[0m\u001b[0;34m(\u001b[0m\u001b[0mXt\u001b[0m\u001b[0;34m,\u001b[0m \u001b[0;34m**\u001b[0m\u001b[0mpredict_params\u001b[0m\u001b[0;34m)\u001b[0m\u001b[0;34m\u001b[0m\u001b[0;34m\u001b[0m\u001b[0m\n\u001b[1;32m    409\u001b[0m \u001b[0;34m\u001b[0m\u001b[0m\n",
      "\u001b[0;32m~/.local/lib/python3.6/site-packages/sklearn/compose/_column_transformer.py\u001b[0m in \u001b[0;36mtransform\u001b[0;34m(self, X)\u001b[0m\n\u001b[1;32m    596\u001b[0m             if (n_cols_transform >= n_cols_fit and\n\u001b[1;32m    597\u001b[0m                     any(X.columns[:n_cols_fit] != self._df_columns)):\n\u001b[0;32m--> 598\u001b[0;31m                 raise ValueError('Column ordering must be equal for fit '\n\u001b[0m\u001b[1;32m    599\u001b[0m                                  \u001b[0;34m'and for transform when using the '\u001b[0m\u001b[0;34m\u001b[0m\u001b[0;34m\u001b[0m\u001b[0m\n\u001b[1;32m    600\u001b[0m                                  'remainder keyword')\n",
      "\u001b[0;31mValueError\u001b[0m: Column ordering must be equal for fit and for transform when using the remainder keyword"
     ]
    }
   ],
   "source": [
    "model.predict(df).item()"
   ]
  },
  {
   "cell_type": "code",
   "execution_count": 5,
   "id": "bf9da4cb-43ea-4bd4-a038-1072cbd31729",
   "metadata": {},
   "outputs": [
    {
     "data": {
      "text/plain": [
       "Index(['id', 'price', 'bedrooms', 'bathrooms', 'sqft_living', 'sqft_lot',\n",
       "       'floors', 'waterfront', 'view', 'condition', 'grade', 'sqft_above',\n",
       "       'sqft_basement', 'yr_built', 'yr_renovated', 'zipcode', 'lat', 'long',\n",
       "       'sqft_living15', 'sqft_lot15', 'date_sold', 'date_listed'],\n",
       "      dtype='object')"
      ]
     },
     "execution_count": 5,
     "metadata": {},
     "output_type": "execute_result"
    }
   ],
   "source": [
    "train_df.columns"
   ]
  },
  {
   "cell_type": "code",
   "execution_count": 7,
   "id": "04e62591-ba57-40cc-81b5-37a15f8f8257",
   "metadata": {},
   "outputs": [
    {
     "data": {
      "text/plain": [
       "dict_keys(['id', 'price', 'bedrooms', 'bathrooms', 'sqft_living', 'sqft_lot', 'floors', 'waterfront', 'view', 'condition', 'grade', 'sqft_above', 'sqft_basement', 'yr_built', 'yr_renovated', 'zipcode', 'lat', 'long', 'sqft_living15', 'sqft_lot15', 'date_sold', 'date_listed'])"
      ]
     },
     "execution_count": 7,
     "metadata": {},
     "output_type": "execute_result"
    }
   ],
   "source": [
    "train_records[0].keys()"
   ]
  },
  {
   "cell_type": "code",
   "execution_count": 4,
   "id": "203331ab-4d5d-483f-953e-4aa233947d30",
   "metadata": {
    "tags": []
   },
   "outputs": [
    {
     "ename": "KeyError",
     "evalue": "'response'",
     "output_type": "error",
     "traceback": [
      "\u001b[0;31m---------------------------------------------------------------------------\u001b[0m",
      "\u001b[0;31mKeyError\u001b[0m                                  Traceback (most recent call last)",
      "\u001b[0;32m<timed exec>\u001b[0m in \u001b[0;36m<module>\u001b[0;34m\u001b[0m\n",
      "\u001b[0;32m~/utils/inference_utils.py\u001b[0m in \u001b[0;36mthreaded_call\u001b[0;34m(self, records)\u001b[0m\n\u001b[1;32m     78\u001b[0m             \u001b[0mcompleted\u001b[0m \u001b[0;34m=\u001b[0m \u001b[0mexecutor\u001b[0m\u001b[0;34m.\u001b[0m\u001b[0mmap\u001b[0m\u001b[0;34m(\u001b[0m\u001b[0mself\u001b[0m\u001b[0;34m.\u001b[0m\u001b[0mcall_model\u001b[0m\u001b[0;34m,\u001b[0m \u001b[0mrecords\u001b[0m\u001b[0;34m)\u001b[0m\u001b[0;34m\u001b[0m\u001b[0;34m\u001b[0m\u001b[0m\n\u001b[1;32m     79\u001b[0m \u001b[0;34m\u001b[0m\u001b[0m\n\u001b[0;32m---> 80\u001b[0;31m         \u001b[0mresults\u001b[0m\u001b[0;34m.\u001b[0m\u001b[0mextend\u001b[0m\u001b[0;34m(\u001b[0m\u001b[0mcompleted\u001b[0m\u001b[0;34m)\u001b[0m\u001b[0;34m\u001b[0m\u001b[0;34m\u001b[0m\u001b[0m\n\u001b[0m\u001b[1;32m     81\u001b[0m \u001b[0;34m\u001b[0m\u001b[0m\n\u001b[1;32m     82\u001b[0m         \u001b[0mend_timestamp_ms\u001b[0m \u001b[0;34m=\u001b[0m \u001b[0mint\u001b[0m\u001b[0;34m(\u001b[0m\u001b[0mround\u001b[0m\u001b[0;34m(\u001b[0m\u001b[0mtime\u001b[0m\u001b[0;34m.\u001b[0m\u001b[0mtime\u001b[0m\u001b[0;34m(\u001b[0m\u001b[0;34m)\u001b[0m \u001b[0;34m*\u001b[0m \u001b[0;36m1000\u001b[0m\u001b[0;34m)\u001b[0m\u001b[0;34m)\u001b[0m\u001b[0;34m\u001b[0m\u001b[0;34m\u001b[0m\u001b[0m\n",
      "\u001b[0;32m/usr/local/lib/python3.6/concurrent/futures/_base.py\u001b[0m in \u001b[0;36mresult_iterator\u001b[0;34m()\u001b[0m\n\u001b[1;32m    584\u001b[0m                     \u001b[0;31m# Careful not to keep a reference to the popped future\u001b[0m\u001b[0;34m\u001b[0m\u001b[0;34m\u001b[0m\u001b[0;34m\u001b[0m\u001b[0m\n\u001b[1;32m    585\u001b[0m                     \u001b[0;32mif\u001b[0m \u001b[0mtimeout\u001b[0m \u001b[0;32mis\u001b[0m \u001b[0;32mNone\u001b[0m\u001b[0;34m:\u001b[0m\u001b[0;34m\u001b[0m\u001b[0;34m\u001b[0m\u001b[0m\n\u001b[0;32m--> 586\u001b[0;31m                         \u001b[0;32myield\u001b[0m \u001b[0mfs\u001b[0m\u001b[0;34m.\u001b[0m\u001b[0mpop\u001b[0m\u001b[0;34m(\u001b[0m\u001b[0;34m)\u001b[0m\u001b[0;34m.\u001b[0m\u001b[0mresult\u001b[0m\u001b[0;34m(\u001b[0m\u001b[0;34m)\u001b[0m\u001b[0;34m\u001b[0m\u001b[0;34m\u001b[0m\u001b[0m\n\u001b[0m\u001b[1;32m    587\u001b[0m                     \u001b[0;32melse\u001b[0m\u001b[0;34m:\u001b[0m\u001b[0;34m\u001b[0m\u001b[0;34m\u001b[0m\u001b[0m\n\u001b[1;32m    588\u001b[0m                         \u001b[0;32myield\u001b[0m \u001b[0mfs\u001b[0m\u001b[0;34m.\u001b[0m\u001b[0mpop\u001b[0m\u001b[0;34m(\u001b[0m\u001b[0;34m)\u001b[0m\u001b[0;34m.\u001b[0m\u001b[0mresult\u001b[0m\u001b[0;34m(\u001b[0m\u001b[0mend_time\u001b[0m \u001b[0;34m-\u001b[0m \u001b[0mtime\u001b[0m\u001b[0;34m.\u001b[0m\u001b[0mmonotonic\u001b[0m\u001b[0;34m(\u001b[0m\u001b[0;34m)\u001b[0m\u001b[0;34m)\u001b[0m\u001b[0;34m\u001b[0m\u001b[0;34m\u001b[0m\u001b[0m\n",
      "\u001b[0;32m/usr/local/lib/python3.6/concurrent/futures/_base.py\u001b[0m in \u001b[0;36mresult\u001b[0;34m(self, timeout)\u001b[0m\n\u001b[1;32m    423\u001b[0m                 \u001b[0;32mraise\u001b[0m \u001b[0mCancelledError\u001b[0m\u001b[0;34m(\u001b[0m\u001b[0;34m)\u001b[0m\u001b[0;34m\u001b[0m\u001b[0;34m\u001b[0m\u001b[0m\n\u001b[1;32m    424\u001b[0m             \u001b[0;32melif\u001b[0m \u001b[0mself\u001b[0m\u001b[0;34m.\u001b[0m\u001b[0m_state\u001b[0m \u001b[0;34m==\u001b[0m \u001b[0mFINISHED\u001b[0m\u001b[0;34m:\u001b[0m\u001b[0;34m\u001b[0m\u001b[0;34m\u001b[0m\u001b[0m\n\u001b[0;32m--> 425\u001b[0;31m                 \u001b[0;32mreturn\u001b[0m \u001b[0mself\u001b[0m\u001b[0;34m.\u001b[0m\u001b[0m__get_result\u001b[0m\u001b[0;34m(\u001b[0m\u001b[0;34m)\u001b[0m\u001b[0;34m\u001b[0m\u001b[0;34m\u001b[0m\u001b[0m\n\u001b[0m\u001b[1;32m    426\u001b[0m \u001b[0;34m\u001b[0m\u001b[0m\n\u001b[1;32m    427\u001b[0m             \u001b[0mself\u001b[0m\u001b[0;34m.\u001b[0m\u001b[0m_condition\u001b[0m\u001b[0;34m.\u001b[0m\u001b[0mwait\u001b[0m\u001b[0;34m(\u001b[0m\u001b[0mtimeout\u001b[0m\u001b[0;34m)\u001b[0m\u001b[0;34m\u001b[0m\u001b[0;34m\u001b[0m\u001b[0m\n",
      "\u001b[0;32m/usr/local/lib/python3.6/concurrent/futures/_base.py\u001b[0m in \u001b[0;36m__get_result\u001b[0;34m(self)\u001b[0m\n\u001b[1;32m    382\u001b[0m     \u001b[0;32mdef\u001b[0m \u001b[0m__get_result\u001b[0m\u001b[0;34m(\u001b[0m\u001b[0mself\u001b[0m\u001b[0;34m)\u001b[0m\u001b[0;34m:\u001b[0m\u001b[0;34m\u001b[0m\u001b[0;34m\u001b[0m\u001b[0m\n\u001b[1;32m    383\u001b[0m         \u001b[0;32mif\u001b[0m \u001b[0mself\u001b[0m\u001b[0;34m.\u001b[0m\u001b[0m_exception\u001b[0m\u001b[0;34m:\u001b[0m\u001b[0;34m\u001b[0m\u001b[0;34m\u001b[0m\u001b[0m\n\u001b[0;32m--> 384\u001b[0;31m             \u001b[0;32mraise\u001b[0m \u001b[0mself\u001b[0m\u001b[0;34m.\u001b[0m\u001b[0m_exception\u001b[0m\u001b[0;34m\u001b[0m\u001b[0;34m\u001b[0m\u001b[0m\n\u001b[0m\u001b[1;32m    385\u001b[0m         \u001b[0;32melse\u001b[0m\u001b[0;34m:\u001b[0m\u001b[0;34m\u001b[0m\u001b[0;34m\u001b[0m\u001b[0m\n\u001b[1;32m    386\u001b[0m             \u001b[0;32mreturn\u001b[0m \u001b[0mself\u001b[0m\u001b[0;34m.\u001b[0m\u001b[0m_result\u001b[0m\u001b[0;34m\u001b[0m\u001b[0;34m\u001b[0m\u001b[0m\n",
      "\u001b[0;32m/usr/local/lib/python3.6/concurrent/futures/thread.py\u001b[0m in \u001b[0;36mrun\u001b[0;34m(self)\u001b[0m\n\u001b[1;32m     54\u001b[0m \u001b[0;34m\u001b[0m\u001b[0m\n\u001b[1;32m     55\u001b[0m         \u001b[0;32mtry\u001b[0m\u001b[0;34m:\u001b[0m\u001b[0;34m\u001b[0m\u001b[0;34m\u001b[0m\u001b[0m\n\u001b[0;32m---> 56\u001b[0;31m             \u001b[0mresult\u001b[0m \u001b[0;34m=\u001b[0m \u001b[0mself\u001b[0m\u001b[0;34m.\u001b[0m\u001b[0mfn\u001b[0m\u001b[0;34m(\u001b[0m\u001b[0;34m*\u001b[0m\u001b[0mself\u001b[0m\u001b[0;34m.\u001b[0m\u001b[0margs\u001b[0m\u001b[0;34m,\u001b[0m \u001b[0;34m**\u001b[0m\u001b[0mself\u001b[0m\u001b[0;34m.\u001b[0m\u001b[0mkwargs\u001b[0m\u001b[0;34m)\u001b[0m\u001b[0;34m\u001b[0m\u001b[0;34m\u001b[0m\u001b[0m\n\u001b[0m\u001b[1;32m     57\u001b[0m         \u001b[0;32mexcept\u001b[0m \u001b[0mBaseException\u001b[0m \u001b[0;32mas\u001b[0m \u001b[0mexc\u001b[0m\u001b[0;34m:\u001b[0m\u001b[0;34m\u001b[0m\u001b[0;34m\u001b[0m\u001b[0m\n\u001b[1;32m     58\u001b[0m             \u001b[0mself\u001b[0m\u001b[0;34m.\u001b[0m\u001b[0mfuture\u001b[0m\u001b[0;34m.\u001b[0m\u001b[0mset_exception\u001b[0m\u001b[0;34m(\u001b[0m\u001b[0mexc\u001b[0m\u001b[0;34m)\u001b[0m\u001b[0;34m\u001b[0m\u001b[0;34m\u001b[0m\u001b[0m\n",
      "\u001b[0;32m~/utils/inference_utils.py\u001b[0m in \u001b[0;36mcall_model\u001b[0;34m(self, record)\u001b[0m\n\u001b[1;32m     53\u001b[0m         ).json()\n\u001b[1;32m     54\u001b[0m \u001b[0;34m\u001b[0m\u001b[0m\n\u001b[0;32m---> 55\u001b[0;31m         \u001b[0;32mreturn\u001b[0m \u001b[0mrecord\u001b[0m\u001b[0;34m[\u001b[0m\u001b[0;34m\"id\"\u001b[0m\u001b[0;34m]\u001b[0m\u001b[0;34m,\u001b[0m \u001b[0mresponse\u001b[0m\u001b[0;34m[\u001b[0m\u001b[0;34m\"response\"\u001b[0m\u001b[0;34m]\u001b[0m\u001b[0;34m[\u001b[0m\u001b[0;34m\"uuid\"\u001b[0m\u001b[0;34m]\u001b[0m\u001b[0;34m\u001b[0m\u001b[0;34m\u001b[0m\u001b[0m\n\u001b[0m\u001b[1;32m     56\u001b[0m \u001b[0;34m\u001b[0m\u001b[0m\n\u001b[1;32m     57\u001b[0m     \u001b[0;32mdef\u001b[0m \u001b[0mcall_model_cdsw\u001b[0m\u001b[0;34m(\u001b[0m\u001b[0mself\u001b[0m\u001b[0;34m,\u001b[0m \u001b[0mrecord\u001b[0m\u001b[0;34m)\u001b[0m\u001b[0;34m:\u001b[0m\u001b[0;34m\u001b[0m\u001b[0;34m\u001b[0m\u001b[0m\n",
      "\u001b[0;31mKeyError\u001b[0m: 'response'"
     ]
    }
   ],
   "source": [
    "%%time\n",
    "tmr = ThreadedModelRequest(deployment_details=latest_deployment_details)\n",
    "train_inference_metadata = tmr.threaded_call(train_records[:2])"
   ]
  },
  {
   "cell_type": "code",
   "execution_count": 11,
   "id": "65bd2493-0128-4d39-8920-61ce0146e492",
   "metadata": {
    "tags": []
   },
   "outputs": [
    {
     "ename": "NameError",
     "evalue": "name 'train_inference_metadata' is not defined",
     "output_type": "error",
     "traceback": [
      "\u001b[0;31m---------------------------------------------------------------------------\u001b[0m",
      "\u001b[0;31mNameError\u001b[0m                                 Traceback (most recent call last)",
      "\u001b[0;32m<ipython-input-11-6067c6cadd3e>\u001b[0m in \u001b[0;36m<module>\u001b[0;34m\u001b[0m\n\u001b[0;32m----> 1\u001b[0;31m \u001b[0mlen\u001b[0m\u001b[0;34m(\u001b[0m\u001b[0mtrain_inference_metadata\u001b[0m\u001b[0;34m[\u001b[0m\u001b[0;34m\"id_uuid_mapping\"\u001b[0m\u001b[0;34m]\u001b[0m\u001b[0;34m)\u001b[0m\u001b[0;34m\u001b[0m\u001b[0;34m\u001b[0m\u001b[0m\n\u001b[0m",
      "\u001b[0;31mNameError\u001b[0m: name 'train_inference_metadata' is not defined"
     ]
    }
   ],
   "source": [
    "len(train_inference_metadata[\"id_uuid_mapping\"])"
   ]
  },
  {
   "cell_type": "code",
   "execution_count": null,
   "id": "ace65ef6-515d-4e8c-8323-6973f7a3af39",
   "metadata": {
    "tags": []
   },
   "outputs": [],
   "source": [
    "with open(\"train_inference_metadata.pkl\", \"wb\") as f:\n",
    "    pickle.dump(train_inference_metadata, f)"
   ]
  },
  {
   "cell_type": "code",
   "execution_count": null,
   "id": "ce21cf30-b4e0-45c7-b18c-56a904687a38",
   "metadata": {},
   "outputs": [],
   "source": [
    "# with open(\"train_inference_metadata.pkl\", \"rb\") as f:\n",
    "#     train_inference_metadata = pickle.load(f)"
   ]
  },
  {
   "cell_type": "markdown",
   "id": "22e033e7-daae-4a8b-a677-4801db220d0d",
   "metadata": {},
   "source": [
    "#### Create master id <--> uuid mapping: this gets populated as soon as a property is \"listed\""
   ]
  },
  {
   "cell_type": "code",
   "execution_count": null,
   "id": "beab0343-de3e-42c2-b96d-dde827437856",
   "metadata": {},
   "outputs": [],
   "source": [
    "master_id_uuid_mapping = {}\n",
    "master_id_uuid_mapping.update(train_inference_metadata[\"id_uuid_mapping\"])"
   ]
  },
  {
   "cell_type": "code",
   "execution_count": null,
   "id": "381a594a-e526-4158-a145-533103c4e08a",
   "metadata": {},
   "outputs": [],
   "source": [
    "len(master_id_uuid_mapping)"
   ]
  },
  {
   "cell_type": "markdown",
   "id": "bb9fcdc8-1f97-418f-b2ae-4c31bca006ff",
   "metadata": {},
   "source": [
    "### 1.a Add delayed metrics"
   ]
  },
  {
   "cell_type": "code",
   "execution_count": null,
   "id": "824d0ac8-4ce4-4ba3-9fe1-a4f5fbab1d6c",
   "metadata": {},
   "outputs": [],
   "source": [
    "def add_delayed_metrics(uuids, ground_truths, sold_dates):\n",
    "    \"\"\"\n",
    "    Add delayed metrics to CML Model Metrics database provided a\n",
    "    list of prediction UUID's and corresponding list of ground truth values.\n",
    "\n",
    "    \"\"\"\n",
    "\n",
    "    if len(uuids) != len(ground_truths) != len(sold_dates):\n",
    "        raise ValueError(\n",
    "            \"UUIDs, ground_truths, and sold_dates must be of same length and correspond by index.\"\n",
    "        )\n",
    "\n",
    "    for uuid, gt, ds in zip(uuids, ground_truths, sold_dates):\n",
    "        cdsw.track_delayed_metrics(\n",
    "            metrics={\"ground_truth\": gt, \"date_sold\": ds}, prediction_uuid=uuid\n",
    "        )\n",
    "\n",
    "    print(f\"Sucessfully added ground truth values to {len(uuids)} records.\")"
   ]
  },
  {
   "cell_type": "code",
   "execution_count": null,
   "id": "110f5060-81d2-4897-a7d4-eb4d564ed300",
   "metadata": {
    "tags": []
   },
   "outputs": [],
   "source": [
    "# get list of uuids from train_inference_metadata\n",
    "train_uuids = list(train_inference_metadata[\"id_uuid_mapping\"].values())\n",
    "\n",
    "# get list of prices\n",
    "train_gts = train_df[\n",
    "    train_df.id.isin(train_inference_metadata[\"id_uuid_mapping\"].keys())\n",
    "].price.tolist()\n",
    "\n",
    "# get list of sold_dates\n",
    "train_sold_dates = train_df[\n",
    "    train_df.id.isin(train_inference_metadata[\"id_uuid_mapping\"].keys())\n",
    "].date_sold.tolist()"
   ]
  },
  {
   "cell_type": "code",
   "execution_count": null,
   "id": "4e636bf5-61d0-4955-8c7e-355975eaf4b8",
   "metadata": {},
   "outputs": [],
   "source": [
    "%%time\n",
    "\n",
    "add_delayed_metrics(train_uuids, train_gts, train_sold_dates)"
   ]
  },
  {
   "cell_type": "markdown",
   "id": "744d5f5c-ae64-4437-9420-a95781758d0a",
   "metadata": {},
   "source": [
    "### 1.b Query the metadata store"
   ]
  },
  {
   "cell_type": "code",
   "execution_count": 17,
   "id": "8cae099c-f937-49cb-9a87-8158614f63be",
   "metadata": {},
   "outputs": [],
   "source": [
    "metrics = cdsw.read_metrics(\n",
    "    model_deployment_crn=latest_deployment_details[\"latest_deployment_crn\"],\n",
    "    start_timestamp_ms=train_inference_metadata[\"start_timestamp_ms\"],\n",
    "    end_timestamp_ms=train_inference_metadata[\"end_timestamp_ms\"],\n",
    ")"
   ]
  },
  {
   "cell_type": "code",
   "execution_count": 18,
   "id": "49dded32-5f96-45d0-b11e-db67ddb07b85",
   "metadata": {},
   "outputs": [],
   "source": [
    "from typing import Dict\n",
    "\n",
    "\n",
    "def format_model_metrics_query(metrics: Dict):\n",
    "    \"\"\"\n",
    "    Accepts the response dictionary from `cdsw.read_metrics()`, filters out any non-metrics columns,\n",
    "    and formats as Dataframe.\n",
    "    \"\"\"\n",
    "    metrics = pd.json_normalize(metrics[\"metrics\"])\n",
    "\n",
    "    return metrics[\n",
    "        [col for col in metrics.columns if col.split(\".\")[0] == \"metrics\"]\n",
    "        + [\"predictionUuid\"]\n",
    "    ].rename(columns={col: col.split(\".\")[-1] for col in metrics.columns})"
   ]
  },
  {
   "cell_type": "code",
   "execution_count": 19,
   "id": "dc75642d-9c36-49bd-a793-23ece8d0efa9",
   "metadata": {},
   "outputs": [],
   "source": [
    "train_metrics_df = format_model_metrics_query(metrics)"
   ]
  },
  {
   "cell_type": "code",
   "execution_count": 20,
   "id": "9ee9f04a-e893-415a-a959-5e105ae32eeb",
   "metadata": {
    "collapsed": true,
    "jupyter": {
     "outputs_hidden": true
    },
    "tags": []
   },
   "outputs": [
    {
     "data": {
      "text/html": [
       "<div>\n",
       "<style scoped>\n",
       "    .dataframe tbody tr th:only-of-type {\n",
       "        vertical-align: middle;\n",
       "    }\n",
       "\n",
       "    .dataframe tbody tr th {\n",
       "        vertical-align: top;\n",
       "    }\n",
       "\n",
       "    .dataframe thead th {\n",
       "        text-align: right;\n",
       "    }\n",
       "</style>\n",
       "<table border=\"1\" class=\"dataframe\">\n",
       "  <thead>\n",
       "    <tr style=\"text-align: right;\">\n",
       "      <th></th>\n",
       "      <th>date_sold</th>\n",
       "      <th>ground_truth</th>\n",
       "      <th>view</th>\n",
       "      <th>zipcode</th>\n",
       "      <th>bedrooms</th>\n",
       "      <th>sqft_lot</th>\n",
       "      <th>bathrooms</th>\n",
       "      <th>condition</th>\n",
       "      <th>waterfront</th>\n",
       "      <th>sqft_living</th>\n",
       "      <th>predicted_result</th>\n",
       "      <th>predictionUuid</th>\n",
       "    </tr>\n",
       "  </thead>\n",
       "  <tbody>\n",
       "    <tr>\n",
       "      <th>0</th>\n",
       "      <td>2014-07-25</td>\n",
       "      <td>275000.0</td>\n",
       "      <td>0</td>\n",
       "      <td>98030</td>\n",
       "      <td>4</td>\n",
       "      <td>26114</td>\n",
       "      <td>1.00</td>\n",
       "      <td>5</td>\n",
       "      <td>0</td>\n",
       "      <td>1080</td>\n",
       "      <td>228819.312958</td>\n",
       "      <td>c6763e95-3460-487c-8a0a-fdf95e9a1267</td>\n",
       "    </tr>\n",
       "    <tr>\n",
       "      <th>1</th>\n",
       "      <td>2014-09-26</td>\n",
       "      <td>775000.0</td>\n",
       "      <td>0</td>\n",
       "      <td>98077</td>\n",
       "      <td>4</td>\n",
       "      <td>34513</td>\n",
       "      <td>2.50</td>\n",
       "      <td>3</td>\n",
       "      <td>0</td>\n",
       "      <td>3890</td>\n",
       "      <td>815129.692229</td>\n",
       "      <td>6e442c4f-572f-4f54-ae48-07454343fb08</td>\n",
       "    </tr>\n",
       "    <tr>\n",
       "      <th>2</th>\n",
       "      <td>2014-07-21</td>\n",
       "      <td>265000.0</td>\n",
       "      <td>0</td>\n",
       "      <td>98022</td>\n",
       "      <td>3</td>\n",
       "      <td>10489</td>\n",
       "      <td>1.50</td>\n",
       "      <td>5</td>\n",
       "      <td>0</td>\n",
       "      <td>1560</td>\n",
       "      <td>262579.397453</td>\n",
       "      <td>4b45150c-988a-44a4-aee4-f910a20feaa9</td>\n",
       "    </tr>\n",
       "    <tr>\n",
       "      <th>3</th>\n",
       "      <td>2014-07-22</td>\n",
       "      <td>372500.0</td>\n",
       "      <td>0</td>\n",
       "      <td>98126</td>\n",
       "      <td>2</td>\n",
       "      <td>2958</td>\n",
       "      <td>2.50</td>\n",
       "      <td>3</td>\n",
       "      <td>0</td>\n",
       "      <td>1400</td>\n",
       "      <td>377354.064458</td>\n",
       "      <td>86668c4e-4a63-44c8-a043-ca966e4dd3b7</td>\n",
       "    </tr>\n",
       "    <tr>\n",
       "      <th>4</th>\n",
       "      <td>2014-06-03</td>\n",
       "      <td>235000.0</td>\n",
       "      <td>0</td>\n",
       "      <td>98056</td>\n",
       "      <td>3</td>\n",
       "      <td>15603</td>\n",
       "      <td>1.00</td>\n",
       "      <td>4</td>\n",
       "      <td>0</td>\n",
       "      <td>1250</td>\n",
       "      <td>288589.081822</td>\n",
       "      <td>51f4e54c-eff2-41a6-86a2-1088f657c4a5</td>\n",
       "    </tr>\n",
       "    <tr>\n",
       "      <th>...</th>\n",
       "      <td>...</td>\n",
       "      <td>...</td>\n",
       "      <td>...</td>\n",
       "      <td>...</td>\n",
       "      <td>...</td>\n",
       "      <td>...</td>\n",
       "      <td>...</td>\n",
       "      <td>...</td>\n",
       "      <td>...</td>\n",
       "      <td>...</td>\n",
       "      <td>...</td>\n",
       "      <td>...</td>\n",
       "    </tr>\n",
       "    <tr>\n",
       "      <th>11736</th>\n",
       "      <td>2014-05-02</td>\n",
       "      <td>308500.0</td>\n",
       "      <td>0</td>\n",
       "      <td>98155</td>\n",
       "      <td>2</td>\n",
       "      <td>6174</td>\n",
       "      <td>1.00</td>\n",
       "      <td>4</td>\n",
       "      <td>0</td>\n",
       "      <td>850</td>\n",
       "      <td>287682.216986</td>\n",
       "      <td>bf47bf4d-fd2b-4f2d-b3bc-b66340f445dd</td>\n",
       "    </tr>\n",
       "    <tr>\n",
       "      <th>11737</th>\n",
       "      <td>2014-10-27</td>\n",
       "      <td>1049990.0</td>\n",
       "      <td>0</td>\n",
       "      <td>98053</td>\n",
       "      <td>5</td>\n",
       "      <td>9588</td>\n",
       "      <td>3.25</td>\n",
       "      <td>3</td>\n",
       "      <td>0</td>\n",
       "      <td>4240</td>\n",
       "      <td>993825.418767</td>\n",
       "      <td>206b1531-28e7-42b6-8320-567fc93441c0</td>\n",
       "    </tr>\n",
       "    <tr>\n",
       "      <th>11738</th>\n",
       "      <td>2014-06-10</td>\n",
       "      <td>589900.0</td>\n",
       "      <td>0</td>\n",
       "      <td>98027</td>\n",
       "      <td>4</td>\n",
       "      <td>35889</td>\n",
       "      <td>4.50</td>\n",
       "      <td>3</td>\n",
       "      <td>0</td>\n",
       "      <td>3870</td>\n",
       "      <td>875723.661588</td>\n",
       "      <td>d24a3379-5fc8-4a90-9491-fafd9d9a29d6</td>\n",
       "    </tr>\n",
       "    <tr>\n",
       "      <th>11739</th>\n",
       "      <td>2014-07-08</td>\n",
       "      <td>600000.0</td>\n",
       "      <td>0</td>\n",
       "      <td>98034</td>\n",
       "      <td>4</td>\n",
       "      <td>11370</td>\n",
       "      <td>2.50</td>\n",
       "      <td>3</td>\n",
       "      <td>0</td>\n",
       "      <td>2250</td>\n",
       "      <td>500175.417481</td>\n",
       "      <td>8a5a34da-fd62-440f-9895-613038ae7a13</td>\n",
       "    </tr>\n",
       "    <tr>\n",
       "      <th>11740</th>\n",
       "      <td>2014-07-16</td>\n",
       "      <td>389500.0</td>\n",
       "      <td>0</td>\n",
       "      <td>98136</td>\n",
       "      <td>3</td>\n",
       "      <td>874</td>\n",
       "      <td>2.50</td>\n",
       "      <td>3</td>\n",
       "      <td>0</td>\n",
       "      <td>1350</td>\n",
       "      <td>435048.320229</td>\n",
       "      <td>04192ead-364f-48b4-bf85-62f89b33ea4c</td>\n",
       "    </tr>\n",
       "  </tbody>\n",
       "</table>\n",
       "<p>11741 rows × 12 columns</p>\n",
       "</div>"
      ],
      "text/plain": [
       "        date_sold  ground_truth  view  zipcode  bedrooms  sqft_lot  bathrooms  \\\n",
       "0      2014-07-25      275000.0     0    98030         4     26114       1.00   \n",
       "1      2014-09-26      775000.0     0    98077         4     34513       2.50   \n",
       "2      2014-07-21      265000.0     0    98022         3     10489       1.50   \n",
       "3      2014-07-22      372500.0     0    98126         2      2958       2.50   \n",
       "4      2014-06-03      235000.0     0    98056         3     15603       1.00   \n",
       "...           ...           ...   ...      ...       ...       ...        ...   \n",
       "11736  2014-05-02      308500.0     0    98155         2      6174       1.00   \n",
       "11737  2014-10-27     1049990.0     0    98053         5      9588       3.25   \n",
       "11738  2014-06-10      589900.0     0    98027         4     35889       4.50   \n",
       "11739  2014-07-08      600000.0     0    98034         4     11370       2.50   \n",
       "11740  2014-07-16      389500.0     0    98136         3       874       2.50   \n",
       "\n",
       "       condition  waterfront  sqft_living  predicted_result  \\\n",
       "0              5           0         1080     228819.312958   \n",
       "1              3           0         3890     815129.692229   \n",
       "2              5           0         1560     262579.397453   \n",
       "3              3           0         1400     377354.064458   \n",
       "4              4           0         1250     288589.081822   \n",
       "...          ...         ...          ...               ...   \n",
       "11736          4           0          850     287682.216986   \n",
       "11737          3           0         4240     993825.418767   \n",
       "11738          3           0         3870     875723.661588   \n",
       "11739          3           0         2250     500175.417481   \n",
       "11740          3           0         1350     435048.320229   \n",
       "\n",
       "                             predictionUuid  \n",
       "0      c6763e95-3460-487c-8a0a-fdf95e9a1267  \n",
       "1      6e442c4f-572f-4f54-ae48-07454343fb08  \n",
       "2      4b45150c-988a-44a4-aee4-f910a20feaa9  \n",
       "3      86668c4e-4a63-44c8-a043-ca966e4dd3b7  \n",
       "4      51f4e54c-eff2-41a6-86a2-1088f657c4a5  \n",
       "...                                     ...  \n",
       "11736  bf47bf4d-fd2b-4f2d-b3bc-b66340f445dd  \n",
       "11737  206b1531-28e7-42b6-8320-567fc93441c0  \n",
       "11738  d24a3379-5fc8-4a90-9491-fafd9d9a29d6  \n",
       "11739  8a5a34da-fd62-440f-9895-613038ae7a13  \n",
       "11740  04192ead-364f-48b4-bf85-62f89b33ea4c  \n",
       "\n",
       "[11741 rows x 12 columns]"
      ]
     },
     "execution_count": 20,
     "metadata": {},
     "output_type": "execute_result"
    }
   ],
   "source": [
    "train_metrics_df"
   ]
  },
  {
   "cell_type": "markdown",
   "id": "a83e4187-9ad5-487b-b272-71c3e15fd9dd",
   "metadata": {},
   "source": [
    "### 2. Create Simulation"
   ]
  },
  {
   "cell_type": "code",
   "execution_count": 39,
   "id": "21172b7b-e40c-48f0-a860-ba9ef5b4eb2c",
   "metadata": {},
   "outputs": [],
   "source": [
    "prod_path = \"../data/working/prod_df.pkl\"\n",
    "prod_df = pd.read_pickle(prod_path)"
   ]
  },
  {
   "cell_type": "code",
   "execution_count": 40,
   "id": "264d1e91-a945-4800-a65c-c7847c6f9f2f",
   "metadata": {},
   "outputs": [],
   "source": [
    "# number of months in prod set\n",
    "n_months = int(\n",
    "    np.ceil(\n",
    "        (prod_df.date_sold.max() - prod_df.date_sold.min()) / np.timedelta64(1, \"M\")\n",
    "    )\n",
    ")"
   ]
  },
  {
   "cell_type": "code",
   "execution_count": 41,
   "id": "c7500d86-48c7-462f-b216-5067f5dcae78",
   "metadata": {},
   "outputs": [],
   "source": [
    "# construct date ranges to iterate through as simulation of time (include left, exclude right)\n",
    "\n",
    "date_ranges = [\n",
    "    [\n",
    "        (prod_df.date_sold.min() + DateOffset(months=n)),\n",
    "        (prod_df.date_sold.min() + DateOffset(months=n + 2)),\n",
    "    ]\n",
    "    for n in range(0, n_months, 2)\n",
    "]\n",
    "\n",
    "# increase first date range to account for records that listed during the train_df timeframe\n",
    "date_ranges[0][0] = date_ranges[0][0] - DateOffset(years=1)"
   ]
  },
  {
   "cell_type": "code",
   "execution_count": 24,
   "id": "0236394d-651b-48a7-b936-7893caa4fe2f",
   "metadata": {},
   "outputs": [
    {
     "data": {
      "text/plain": [
       "[[Timestamp('2013-11-01 00:00:00'), Timestamp('2015-01-01 00:00:00')],\n",
       " [Timestamp('2015-01-01 00:00:00'), Timestamp('2015-03-01 00:00:00')],\n",
       " [Timestamp('2015-03-01 00:00:00'), Timestamp('2015-05-01 00:00:00')],\n",
       " [Timestamp('2015-05-01 00:00:00'), Timestamp('2015-07-01 00:00:00')]]"
      ]
     },
     "execution_count": 24,
     "metadata": {},
     "output_type": "execute_result"
    }
   ],
   "source": [
    "date_ranges"
   ]
  },
  {
   "cell_type": "markdown",
   "id": "eb7d0d67-9d66-4eab-ad4e-b0f0d9eaf78f",
   "metadata": {},
   "source": [
    "### Logic for one loop"
   ]
  },
  {
   "cell_type": "markdown",
   "id": "ac79c501-7798-4f01-9bad-15a068d7c000",
   "metadata": {},
   "source": [
    "#### Query prod_df for new listings in new date range + make inference"
   ]
  },
  {
   "cell_type": "code",
   "execution_count": 25,
   "id": "8591e9c5-627d-493f-ae4a-0de3b98c3823",
   "metadata": {
    "tags": []
   },
   "outputs": [
    {
     "name": "stderr",
     "output_type": "stream",
     "text": [
      "/home/cdsw/.local/lib/python3.8/site-packages/pandas/core/indexing.py:1773: SettingWithCopyWarning: \n",
      "A value is trying to be set on a copy of a slice from a DataFrame.\n",
      "Try using .loc[row_indexer,col_indexer] = value instead\n",
      "\n",
      "See the caveats in the documentation: https://pandas.pydata.org/pandas-docs/stable/user_guide/indexing.html#returning-a-view-versus-a-copy\n",
      "  self._setitem_single_column(ilocs[0], value, pi)\n"
     ]
    }
   ],
   "source": [
    "new_listings_records = prod_df.loc[\n",
    "    prod_df.date_listed.between(date_ranges[0][0], date_ranges[0][1], inclusive=\"left\")\n",
    "]\n",
    "\n",
    "new_listings_records = cast_date_as_str_for_json(new_listings_records).to_dict(\n",
    "    orient=\"records\"\n",
    ")"
   ]
  },
  {
   "cell_type": "code",
   "execution_count": 26,
   "id": "f7b988cc-fc4f-43f3-9731-f67b98baf6ba",
   "metadata": {
    "tags": []
   },
   "outputs": [
    {
     "name": "stdout",
     "output_type": "stream",
     "text": [
      "CPU times: user 13.6 s, sys: 310 ms, total: 13.9 s\n",
      "Wall time: 2min 16s\n"
     ]
    }
   ],
   "source": [
    "%%time\n",
    "tmr = ThreadedModelRequest(deployment_details=latest_deployment_details)\n",
    "new_listing_inference_metadata = tmr.threaded_call(new_listings_records)"
   ]
  },
  {
   "cell_type": "code",
   "execution_count": 27,
   "id": "08e39a4b-225f-498d-8828-9c30bde40867",
   "metadata": {},
   "outputs": [
    {
     "data": {
      "text/plain": [
       "3840"
      ]
     },
     "execution_count": 27,
     "metadata": {},
     "output_type": "execute_result"
    }
   ],
   "source": [
    "len(new_listing_inference_metadata[\"id_uuid_mapping\"])"
   ]
  },
  {
   "cell_type": "code",
   "execution_count": 28,
   "id": "541e637d-bfc2-498b-bbf8-d8f55c1be735",
   "metadata": {},
   "outputs": [],
   "source": [
    "master_id_uuid_mapping.update(new_listing_inference_metadata[\"id_uuid_mapping\"])"
   ]
  },
  {
   "cell_type": "code",
   "execution_count": 29,
   "id": "bab2345c-22a4-49af-889f-f2a1591e9baf",
   "metadata": {},
   "outputs": [
    {
     "data": {
      "text/plain": [
       "15581"
      ]
     },
     "execution_count": 29,
     "metadata": {},
     "output_type": "execute_result"
    }
   ],
   "source": [
    "len(master_id_uuid_mapping)"
   ]
  },
  {
   "cell_type": "markdown",
   "id": "68d6f5d1-fff8-43c4-a82d-34c7894fcb91",
   "metadata": {},
   "source": [
    "#### Query prod_df for newly sold properties in new date range + assign ground truth to records in metric store"
   ]
  },
  {
   "cell_type": "code",
   "execution_count": 42,
   "id": "f4ad00e7-2f12-4849-954b-c07d1477a0d2",
   "metadata": {},
   "outputs": [],
   "source": [
    "new_sold_records = prod_df.loc[\n",
    "    prod_df.date_sold.between(date_ranges[0][0], date_ranges[0][1], inclusive=\"left\")\n",
    "]"
   ]
  },
  {
   "cell_type": "code",
   "execution_count": 43,
   "id": "c351911d-720e-4f9d-bca2-690fedafada2",
   "metadata": {},
   "outputs": [],
   "source": [
    "# get list of uuids from train_inference_metadata\n",
    "new_sold_uuids = new_sold_records.id.apply(lambda x: master_id_uuid_mapping[x]).tolist()"
   ]
  },
  {
   "cell_type": "code",
   "execution_count": 46,
   "id": "1f6e21fa-ecc8-47f7-9fce-691e18c14932",
   "metadata": {},
   "outputs": [],
   "source": [
    "# get list of ground truth prices for newly sold properties\n",
    "new_sold_gts = prod_df[prod_df.id.isin(new_sold_records.id)].price.tolist()\n",
    "\n",
    "# get list of sold_dates for newly sold properties\n",
    "new_sold_dates = (\n",
    "    prod_df[prod_df.id.isin(new_sold_records.id)].date_sold.astype(str).tolist()\n",
    ")"
   ]
  },
  {
   "cell_type": "code",
   "execution_count": 48,
   "id": "dcd75559-5d8a-4148-b90a-b180e5f19b58",
   "metadata": {},
   "outputs": [
    {
     "name": "stdout",
     "output_type": "stream",
     "text": [
      "Sucessfully added ground truth values to 2858 records.\n",
      "CPU times: user 30.2 s, sys: 1.09 s, total: 31.3 s\n",
      "Wall time: 55 s\n"
     ]
    }
   ],
   "source": [
    "%%time\n",
    "add_delayed_metrics(new_sold_uuids, new_sold_gts, new_sold_dates)"
   ]
  },
  {
   "cell_type": "markdown",
   "id": "777730ae-814c-4e56-8a14-2294fa056318",
   "metadata": {},
   "source": [
    "#### Query metric store for newly sold records for evidently reporting"
   ]
  },
  {
   "cell_type": "code",
   "execution_count": 49,
   "id": "743bab9f-63b4-4a08-b310-dbd577fa76aa",
   "metadata": {},
   "outputs": [],
   "source": [
    "# because I cant query by UUID, I must query all records, then filter to new_sold by uuid\n",
    "metrics = cdsw.read_metrics(\n",
    "    model_deployment_crn=latest_deployment_details[\"latest_deployment_crn\"]\n",
    ")\n",
    "\n",
    "metrics_df = format_model_metrics_query(metrics)"
   ]
  },
  {
   "cell_type": "code",
   "execution_count": 50,
   "id": "0a6651ff-2d8d-4326-be4f-c082222ed568",
   "metadata": {},
   "outputs": [],
   "source": [
    "new_sold_metrics_df = metrics_df[metrics_df.predictionUuid.isin(new_sold_uuids)]"
   ]
  },
  {
   "cell_type": "code",
   "execution_count": 51,
   "id": "35f23f07-9d42-4180-9d8e-21f35b137483",
   "metadata": {
    "tags": []
   },
   "outputs": [
    {
     "data": {
      "text/html": [
       "<div>\n",
       "<style scoped>\n",
       "    .dataframe tbody tr th:only-of-type {\n",
       "        vertical-align: middle;\n",
       "    }\n",
       "\n",
       "    .dataframe tbody tr th {\n",
       "        vertical-align: top;\n",
       "    }\n",
       "\n",
       "    .dataframe thead th {\n",
       "        text-align: right;\n",
       "    }\n",
       "</style>\n",
       "<table border=\"1\" class=\"dataframe\">\n",
       "  <thead>\n",
       "    <tr style=\"text-align: right;\">\n",
       "      <th></th>\n",
       "      <th>date_sold</th>\n",
       "      <th>ground_truth</th>\n",
       "      <th>view</th>\n",
       "      <th>zipcode</th>\n",
       "      <th>bedrooms</th>\n",
       "      <th>sqft_lot</th>\n",
       "      <th>bathrooms</th>\n",
       "      <th>condition</th>\n",
       "      <th>waterfront</th>\n",
       "      <th>sqft_living</th>\n",
       "      <th>predicted_result</th>\n",
       "      <th>predictionUuid</th>\n",
       "    </tr>\n",
       "  </thead>\n",
       "  <tbody>\n",
       "    <tr>\n",
       "      <th>11741</th>\n",
       "      <td>2014-11-01</td>\n",
       "      <td>353000.0</td>\n",
       "      <td>0</td>\n",
       "      <td>98115</td>\n",
       "      <td>3</td>\n",
       "      <td>864</td>\n",
       "      <td>2.50</td>\n",
       "      <td>3</td>\n",
       "      <td>0</td>\n",
       "      <td>1250</td>\n",
       "      <td>4.823624e+05</td>\n",
       "      <td>547c8268-533d-44f3-b0dd-ac288048e513</td>\n",
       "    </tr>\n",
       "    <tr>\n",
       "      <th>11742</th>\n",
       "      <td>2014-11-01</td>\n",
       "      <td>1750000.0</td>\n",
       "      <td>0</td>\n",
       "      <td>98004</td>\n",
       "      <td>4</td>\n",
       "      <td>8975</td>\n",
       "      <td>2.75</td>\n",
       "      <td>3</td>\n",
       "      <td>0</td>\n",
       "      <td>3560</td>\n",
       "      <td>1.351848e+06</td>\n",
       "      <td>aed80c8e-8013-4d64-9648-642ebb0125e4</td>\n",
       "    </tr>\n",
       "    <tr>\n",
       "      <th>11743</th>\n",
       "      <td>2014-11-01</td>\n",
       "      <td>644500.0</td>\n",
       "      <td>0</td>\n",
       "      <td>98074</td>\n",
       "      <td>4</td>\n",
       "      <td>5342</td>\n",
       "      <td>2.50</td>\n",
       "      <td>3</td>\n",
       "      <td>0</td>\n",
       "      <td>2990</td>\n",
       "      <td>6.780784e+05</td>\n",
       "      <td>eb8dc1e6-a418-454a-9bbe-45587c05f582</td>\n",
       "    </tr>\n",
       "    <tr>\n",
       "      <th>11744</th>\n",
       "      <td>2014-11-01</td>\n",
       "      <td>399000.0</td>\n",
       "      <td>0</td>\n",
       "      <td>98065</td>\n",
       "      <td>3</td>\n",
       "      <td>3690</td>\n",
       "      <td>2.50</td>\n",
       "      <td>3</td>\n",
       "      <td>0</td>\n",
       "      <td>1740</td>\n",
       "      <td>3.829369e+05</td>\n",
       "      <td>2323a343-789a-4559-b360-1bc34627f8dd</td>\n",
       "    </tr>\n",
       "    <tr>\n",
       "      <th>11745</th>\n",
       "      <td>2014-11-02</td>\n",
       "      <td>825000.0</td>\n",
       "      <td>0</td>\n",
       "      <td>98117</td>\n",
       "      <td>4</td>\n",
       "      <td>4000</td>\n",
       "      <td>2.50</td>\n",
       "      <td>5</td>\n",
       "      <td>0</td>\n",
       "      <td>2560</td>\n",
       "      <td>7.390113e+05</td>\n",
       "      <td>585a579c-e08e-45d0-8de4-c5e39789b848</td>\n",
       "    </tr>\n",
       "    <tr>\n",
       "      <th>...</th>\n",
       "      <td>...</td>\n",
       "      <td>...</td>\n",
       "      <td>...</td>\n",
       "      <td>...</td>\n",
       "      <td>...</td>\n",
       "      <td>...</td>\n",
       "      <td>...</td>\n",
       "      <td>...</td>\n",
       "      <td>...</td>\n",
       "      <td>...</td>\n",
       "      <td>...</td>\n",
       "      <td>...</td>\n",
       "    </tr>\n",
       "    <tr>\n",
       "      <th>14594</th>\n",
       "      <td>2014-12-31</td>\n",
       "      <td>261000.0</td>\n",
       "      <td>0</td>\n",
       "      <td>98038</td>\n",
       "      <td>3</td>\n",
       "      <td>7686</td>\n",
       "      <td>1.75</td>\n",
       "      <td>3</td>\n",
       "      <td>0</td>\n",
       "      <td>1350</td>\n",
       "      <td>2.635794e+05</td>\n",
       "      <td>26b40278-706b-4df9-add9-178653007172</td>\n",
       "    </tr>\n",
       "    <tr>\n",
       "      <th>14595</th>\n",
       "      <td>2014-12-31</td>\n",
       "      <td>665000.0</td>\n",
       "      <td>0</td>\n",
       "      <td>98075</td>\n",
       "      <td>4</td>\n",
       "      <td>5936</td>\n",
       "      <td>2.50</td>\n",
       "      <td>3</td>\n",
       "      <td>0</td>\n",
       "      <td>2510</td>\n",
       "      <td>6.063297e+05</td>\n",
       "      <td>09d5f10a-de06-4bad-9973-d924f61c4e51</td>\n",
       "    </tr>\n",
       "    <tr>\n",
       "      <th>14596</th>\n",
       "      <td>2014-12-31</td>\n",
       "      <td>219200.0</td>\n",
       "      <td>0</td>\n",
       "      <td>98002</td>\n",
       "      <td>3</td>\n",
       "      <td>7000</td>\n",
       "      <td>2.00</td>\n",
       "      <td>4</td>\n",
       "      <td>0</td>\n",
       "      <td>1680</td>\n",
       "      <td>2.355372e+05</td>\n",
       "      <td>e4ab0287-7cd6-4fd7-a33a-d725d43b24f8</td>\n",
       "    </tr>\n",
       "    <tr>\n",
       "      <th>14597</th>\n",
       "      <td>2014-12-31</td>\n",
       "      <td>310000.0</td>\n",
       "      <td>0</td>\n",
       "      <td>98133</td>\n",
       "      <td>3</td>\n",
       "      <td>1361</td>\n",
       "      <td>2.00</td>\n",
       "      <td>3</td>\n",
       "      <td>0</td>\n",
       "      <td>1310</td>\n",
       "      <td>3.323658e+05</td>\n",
       "      <td>9580dce7-a862-44c6-815c-491b548c094d</td>\n",
       "    </tr>\n",
       "    <tr>\n",
       "      <th>14642</th>\n",
       "      <td>2014-12-29</td>\n",
       "      <td>230000.0</td>\n",
       "      <td>0</td>\n",
       "      <td>98118</td>\n",
       "      <td>2</td>\n",
       "      <td>5913</td>\n",
       "      <td>1.00</td>\n",
       "      <td>3</td>\n",
       "      <td>0</td>\n",
       "      <td>720</td>\n",
       "      <td>2.649332e+05</td>\n",
       "      <td>6b239e28-ae2b-4871-82fb-0afb5b8117a0</td>\n",
       "    </tr>\n",
       "  </tbody>\n",
       "</table>\n",
       "<p>2858 rows × 12 columns</p>\n",
       "</div>"
      ],
      "text/plain": [
       "        date_sold  ground_truth  view  zipcode  bedrooms  sqft_lot  bathrooms  \\\n",
       "11741  2014-11-01      353000.0     0    98115         3       864       2.50   \n",
       "11742  2014-11-01     1750000.0     0    98004         4      8975       2.75   \n",
       "11743  2014-11-01      644500.0     0    98074         4      5342       2.50   \n",
       "11744  2014-11-01      399000.0     0    98065         3      3690       2.50   \n",
       "11745  2014-11-02      825000.0     0    98117         4      4000       2.50   \n",
       "...           ...           ...   ...      ...       ...       ...        ...   \n",
       "14594  2014-12-31      261000.0     0    98038         3      7686       1.75   \n",
       "14595  2014-12-31      665000.0     0    98075         4      5936       2.50   \n",
       "14596  2014-12-31      219200.0     0    98002         3      7000       2.00   \n",
       "14597  2014-12-31      310000.0     0    98133         3      1361       2.00   \n",
       "14642  2014-12-29      230000.0     0    98118         2      5913       1.00   \n",
       "\n",
       "       condition  waterfront  sqft_living  predicted_result  \\\n",
       "11741          3           0         1250      4.823624e+05   \n",
       "11742          3           0         3560      1.351848e+06   \n",
       "11743          3           0         2990      6.780784e+05   \n",
       "11744          3           0         1740      3.829369e+05   \n",
       "11745          5           0         2560      7.390113e+05   \n",
       "...          ...         ...          ...               ...   \n",
       "14594          3           0         1350      2.635794e+05   \n",
       "14595          3           0         2510      6.063297e+05   \n",
       "14596          4           0         1680      2.355372e+05   \n",
       "14597          3           0         1310      3.323658e+05   \n",
       "14642          3           0          720      2.649332e+05   \n",
       "\n",
       "                             predictionUuid  \n",
       "11741  547c8268-533d-44f3-b0dd-ac288048e513  \n",
       "11742  aed80c8e-8013-4d64-9648-642ebb0125e4  \n",
       "11743  eb8dc1e6-a418-454a-9bbe-45587c05f582  \n",
       "11744  2323a343-789a-4559-b360-1bc34627f8dd  \n",
       "11745  585a579c-e08e-45d0-8de4-c5e39789b848  \n",
       "...                                     ...  \n",
       "14594  26b40278-706b-4df9-add9-178653007172  \n",
       "14595  09d5f10a-de06-4bad-9973-d924f61c4e51  \n",
       "14596  e4ab0287-7cd6-4fd7-a33a-d725d43b24f8  \n",
       "14597  9580dce7-a862-44c6-815c-491b548c094d  \n",
       "14642  6b239e28-ae2b-4871-82fb-0afb5b8117a0  \n",
       "\n",
       "[2858 rows x 12 columns]"
      ]
     },
     "execution_count": 51,
     "metadata": {},
     "output_type": "execute_result"
    }
   ],
   "source": [
    "new_sold_metrics_df"
   ]
  },
  {
   "cell_type": "markdown",
   "id": "d1ce2a07-fed7-409f-95c6-e93bd92f5ea9",
   "metadata": {},
   "source": [
    "## Build Reporting Dashboard"
   ]
  },
  {
   "cell_type": "code",
   "execution_count": 55,
   "id": "e075f619-f712-4ff1-b2cc-7e3d7d17171d",
   "metadata": {},
   "outputs": [],
   "source": [
    "from evidently.dashboard import Dashboard\n",
    "from evidently.tabs import DataDriftTab, NumTargetDriftTab, RegressionPerformanceTab"
   ]
  },
  {
   "cell_type": "code",
   "execution_count": 56,
   "id": "665b7b4c-5412-445e-9ecf-6fe8cc2a9631",
   "metadata": {},
   "outputs": [
    {
     "ename": "TypeError",
     "evalue": "calculate() missing 2 required positional arguments: 'reference_data' and 'current_data'",
     "output_type": "error",
     "traceback": [
      "\u001b[0;31m---------------------------------------------------------------------------\u001b[0m",
      "\u001b[0;31mTypeError\u001b[0m                                 Traceback (most recent call last)",
      "\u001b[0;32m<ipython-input-56-1ace46168626>\u001b[0m in \u001b[0;36m<module>\u001b[0;34m\u001b[0m\n\u001b[1;32m     13\u001b[0m \u001b[0;34m\u001b[0m\u001b[0m\n\u001b[1;32m     14\u001b[0m \u001b[0mdashboard\u001b[0m \u001b[0;34m=\u001b[0m \u001b[0mDashboard\u001b[0m\u001b[0;34m(\u001b[0m\u001b[0mtabs\u001b[0m\u001b[0;34m=\u001b[0m\u001b[0;34m[\u001b[0m\u001b[0mDataDriftTab\u001b[0m\u001b[0;34m,\u001b[0m \u001b[0mNumTargetDriftTab\u001b[0m\u001b[0;34m,\u001b[0m \u001b[0mRegressionPerformanceTab\u001b[0m\u001b[0;34m]\u001b[0m\u001b[0;34m)\u001b[0m\u001b[0;34m\u001b[0m\u001b[0;34m\u001b[0m\u001b[0m\n\u001b[0;32m---> 15\u001b[0;31m \u001b[0mdashboard\u001b[0m\u001b[0;34m.\u001b[0m\u001b[0mcalculate\u001b[0m\u001b[0;34m(\u001b[0m\u001b[0;34m)\u001b[0m\u001b[0;34m\u001b[0m\u001b[0;34m\u001b[0m\u001b[0m\n\u001b[0m",
      "\u001b[0;31mTypeError\u001b[0m: calculate() missing 2 required positional arguments: 'reference_data' and 'current_data'"
     ]
    }
   ],
   "source": [
    "TARGET = 'ground_truth'\n",
    "PREDICTION = 'predicted_result'\n",
    "NUM_FEATURES = [\"bedrooms\", \"bathrooms\", \"sqft_living\", \"sqft_lot\"]\n",
    "CAT_FEATURES = [\"waterfront\", \"zipcode\", \"condition\", \"view\"]\n",
    "\n",
    "\n",
    "column_map = {\n",
    "    'target': TARGET,\n",
    "    'prediction': PREDICTION,\n",
    "    'numerical_features': NUM_FEATURES,\n",
    "    'categorical_features': CAT_FEATURES\n",
    "}\n",
    "\n",
    "dashboard = Dashboard(tabs=[DataDriftTab, NumTargetDriftTab, RegressionPerformanceTab])\n",
    "dashboard.calculate(reference_data=)\n"
   ]
  },
  {
   "cell_type": "code",
   "execution_count": 60,
   "id": "61a1bc25-743e-4dc6-83f6-f88e021fb542",
   "metadata": {},
   "outputs": [
    {
     "ename": "TypeError",
     "evalue": "descriptor 'axes' for 'BlockManager' objects doesn't apply to a 'BlockManager' object",
     "output_type": "error",
     "traceback": [
      "\u001b[0;31m---------------------------------------------------------------------------\u001b[0m",
      "\u001b[0;31mTypeError\u001b[0m                                 Traceback (most recent call last)",
      "\u001b[0;32m<ipython-input-60-66541c044c6f>\u001b[0m in \u001b[0;36m<module>\u001b[0;34m\u001b[0m\n\u001b[0;32m----> 1\u001b[0;31m \u001b[0mtrain_metrics_df\u001b[0m\u001b[0;34m.\u001b[0m\u001b[0mhead\u001b[0m\u001b[0;34m(\u001b[0m\u001b[0;34m)\u001b[0m\u001b[0;34m\u001b[0m\u001b[0;34m\u001b[0m\u001b[0m\n\u001b[0m",
      "\u001b[0;32m~/.local/lib/python3.8/site-packages/pandas/core/generic.py\u001b[0m in \u001b[0;36mhead\u001b[0;34m(self, n)\u001b[0m\n\u001b[1;32m   4712\u001b[0m         \u001b[0;36m5\u001b[0m     \u001b[0mparrot\u001b[0m\u001b[0;34m\u001b[0m\u001b[0;34m\u001b[0m\u001b[0m\n\u001b[1;32m   4713\u001b[0m         \"\"\"\n\u001b[0;32m-> 4714\u001b[0;31m         \u001b[0;32mreturn\u001b[0m \u001b[0mself\u001b[0m\u001b[0;34m.\u001b[0m\u001b[0miloc\u001b[0m\u001b[0;34m[\u001b[0m\u001b[0;34m:\u001b[0m\u001b[0mn\u001b[0m\u001b[0;34m]\u001b[0m\u001b[0;34m\u001b[0m\u001b[0;34m\u001b[0m\u001b[0m\n\u001b[0m\u001b[1;32m   4715\u001b[0m \u001b[0;34m\u001b[0m\u001b[0m\n\u001b[1;32m   4716\u001b[0m     \u001b[0;32mdef\u001b[0m \u001b[0mtail\u001b[0m\u001b[0;34m(\u001b[0m\u001b[0mself\u001b[0m\u001b[0;34m:\u001b[0m \u001b[0mFrameOrSeries\u001b[0m\u001b[0;34m,\u001b[0m \u001b[0mn\u001b[0m\u001b[0;34m:\u001b[0m \u001b[0mint\u001b[0m \u001b[0;34m=\u001b[0m \u001b[0;36m5\u001b[0m\u001b[0;34m)\u001b[0m \u001b[0;34m->\u001b[0m \u001b[0mFrameOrSeries\u001b[0m\u001b[0;34m:\u001b[0m\u001b[0;34m\u001b[0m\u001b[0;34m\u001b[0m\u001b[0m\n",
      "\u001b[0;32m~/.local/lib/python3.8/site-packages/pandas/core/indexing.py\u001b[0m in \u001b[0;36m__getitem__\u001b[0;34m(self, key)\u001b[0m\n\u001b[1;32m    929\u001b[0m         \u001b[0mbool\u001b[0m\u001b[0;34m\u001b[0m\u001b[0;34m\u001b[0m\u001b[0m\n\u001b[1;32m    930\u001b[0m         \"\"\"\n\u001b[0;32m--> 931\u001b[0;31m         \u001b[0;31m# this is a shortcut accessor to both .loc and .iloc\u001b[0m\u001b[0;34m\u001b[0m\u001b[0;34m\u001b[0m\u001b[0;34m\u001b[0m\u001b[0m\n\u001b[0m\u001b[1;32m    932\u001b[0m         \u001b[0;31m# that provide the equivalent access of .at and .iat\u001b[0m\u001b[0;34m\u001b[0m\u001b[0;34m\u001b[0m\u001b[0;34m\u001b[0m\u001b[0m\n\u001b[1;32m    933\u001b[0m         \u001b[0;31m# a) avoid getting things via sections and (to minimize dtype changes)\u001b[0m\u001b[0;34m\u001b[0m\u001b[0;34m\u001b[0m\u001b[0;34m\u001b[0m\u001b[0m\n",
      "\u001b[0;32m~/.local/lib/python3.8/site-packages/pandas/core/indexing.py\u001b[0m in \u001b[0;36m_getitem_axis\u001b[0;34m(self, key, axis)\u001b[0m\n\u001b[1;32m   1541\u001b[0m         \u001b[0;31m# maybe partial set\u001b[0m\u001b[0;34m\u001b[0m\u001b[0;34m\u001b[0m\u001b[0;34m\u001b[0m\u001b[0m\n\u001b[1;32m   1542\u001b[0m         \u001b[0mtake_split_path\u001b[0m \u001b[0;34m=\u001b[0m \u001b[0mself\u001b[0m\u001b[0;34m.\u001b[0m\u001b[0mobj\u001b[0m\u001b[0;34m.\u001b[0m\u001b[0m_is_mixed_type\u001b[0m\u001b[0;34m\u001b[0m\u001b[0;34m\u001b[0m\u001b[0m\n\u001b[0;32m-> 1543\u001b[0;31m \u001b[0;34m\u001b[0m\u001b[0m\n\u001b[0m\u001b[1;32m   1544\u001b[0m         \u001b[0;31m# if there is only one block/type, still have to take split path\u001b[0m\u001b[0;34m\u001b[0m\u001b[0;34m\u001b[0m\u001b[0;34m\u001b[0m\u001b[0m\n\u001b[1;32m   1545\u001b[0m         \u001b[0;31m# unless the block is one-dimensional or it can hold the value\u001b[0m\u001b[0;34m\u001b[0m\u001b[0;34m\u001b[0m\u001b[0;34m\u001b[0m\u001b[0m\n",
      "\u001b[0;32m~/.local/lib/python3.8/site-packages/pandas/core/indexing.py\u001b[0m in \u001b[0;36m_get_slice_axis\u001b[0;34m(self, slice_obj, axis)\u001b[0m\n\u001b[1;32m   1575\u001b[0m                     \u001b[0;31m# essentially this separates out the block that is needed\u001b[0m\u001b[0;34m\u001b[0m\u001b[0;34m\u001b[0m\u001b[0;34m\u001b[0m\u001b[0m\n\u001b[1;32m   1576\u001b[0m                     \u001b[0;31m# to possibly be modified\u001b[0m\u001b[0;34m\u001b[0m\u001b[0;34m\u001b[0m\u001b[0;34m\u001b[0m\u001b[0m\n\u001b[0;32m-> 1577\u001b[0;31m                     \u001b[0;32mif\u001b[0m \u001b[0mself\u001b[0m\u001b[0;34m.\u001b[0m\u001b[0mndim\u001b[0m \u001b[0;34m>\u001b[0m \u001b[0;36m1\u001b[0m \u001b[0;32mand\u001b[0m \u001b[0mi\u001b[0m \u001b[0;34m==\u001b[0m \u001b[0minfo_axis\u001b[0m\u001b[0;34m:\u001b[0m\u001b[0;34m\u001b[0m\u001b[0;34m\u001b[0m\u001b[0m\n\u001b[0m\u001b[1;32m   1578\u001b[0m \u001b[0;34m\u001b[0m\u001b[0m\n\u001b[1;32m   1579\u001b[0m                         \u001b[0;31m# add the new item, and set the value\u001b[0m\u001b[0;34m\u001b[0m\u001b[0;34m\u001b[0m\u001b[0;34m\u001b[0m\u001b[0m\n",
      "\u001b[0;32m~/.local/lib/python3.8/site-packages/pandas/core/generic.py\u001b[0m in \u001b[0;36m_get_axis\u001b[0;34m(self, axis)\u001b[0m\n\u001b[1;32m    378\u001b[0m         \u001b[0maxis_number\u001b[0m \u001b[0;34m=\u001b[0m \u001b[0mself\u001b[0m\u001b[0;34m.\u001b[0m\u001b[0m_get_axis_number\u001b[0m\u001b[0;34m(\u001b[0m\u001b[0maxis\u001b[0m\u001b[0;34m)\u001b[0m\u001b[0;34m\u001b[0m\u001b[0;34m\u001b[0m\u001b[0m\n\u001b[1;32m    379\u001b[0m         \u001b[0;32massert\u001b[0m \u001b[0maxis_number\u001b[0m \u001b[0;32min\u001b[0m \u001b[0;34m{\u001b[0m\u001b[0;36m0\u001b[0m\u001b[0;34m,\u001b[0m \u001b[0;36m1\u001b[0m\u001b[0;34m}\u001b[0m\u001b[0;34m\u001b[0m\u001b[0;34m\u001b[0m\u001b[0m\n\u001b[0;32m--> 380\u001b[0;31m         \u001b[0;32mreturn\u001b[0m \u001b[0mself\u001b[0m\u001b[0;34m.\u001b[0m\u001b[0mindex\u001b[0m \u001b[0;32mif\u001b[0m \u001b[0maxis_number\u001b[0m \u001b[0;34m==\u001b[0m \u001b[0;36m0\u001b[0m \u001b[0;32melse\u001b[0m \u001b[0mself\u001b[0m\u001b[0;34m.\u001b[0m\u001b[0mcolumns\u001b[0m\u001b[0;34m\u001b[0m\u001b[0;34m\u001b[0m\u001b[0m\n\u001b[0m\u001b[1;32m    381\u001b[0m \u001b[0;34m\u001b[0m\u001b[0m\n\u001b[1;32m    382\u001b[0m     \u001b[0;34m@\u001b[0m\u001b[0mclassmethod\u001b[0m\u001b[0;34m\u001b[0m\u001b[0;34m\u001b[0m\u001b[0m\n",
      "\u001b[0;32mpandas/_libs/properties.pyx\u001b[0m in \u001b[0;36mpandas._libs.properties.AxisProperty.__get__\u001b[0;34m()\u001b[0m\n",
      "\u001b[0;31mTypeError\u001b[0m: descriptor 'axes' for 'BlockManager' objects doesn't apply to a 'BlockManager' object"
     ]
    }
   ],
   "source": [
    "train_metrics_df.head()"
   ]
  },
  {
   "cell_type": "code",
   "execution_count": null,
   "id": "309ff92e-f9ae-4bb5-8dca-4509670618d1",
   "metadata": {},
   "outputs": [],
   "source": []
  }
 ],
 "metadata": {
  "kernelspec": {
   "display_name": "Python 3",
   "language": "python",
   "name": "python3"
  },
  "language_info": {
   "codemirror_mode": {
    "name": "ipython",
    "version": 3
   },
   "file_extension": ".py",
   "mimetype": "text/x-python",
   "name": "python",
   "nbconvert_exporter": "python",
   "pygments_lexer": "ipython3",
   "version": "3.6.14"
  }
 },
 "nbformat": 4,
 "nbformat_minor": 5
}
