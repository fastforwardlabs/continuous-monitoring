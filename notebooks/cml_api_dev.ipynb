{
 "cells": [
  {
   "cell_type": "markdown",
   "id": "e9a82f9d-7b12-48af-9009-d4c649fe1e69",
   "metadata": {},
   "source": [
    "# Working with CML API v2"
   ]
  },
  {
   "cell_type": "markdown",
   "id": "271f6350-54bb-42db-a76c-a1b13d0ef6cb",
   "metadata": {},
   "source": [
    "## Establish Python Client"
   ]
  },
  {
   "cell_type": "code",
   "execution_count": 1,
   "id": "c54c15aa-1c06-42c1-aaaa-b2b301d9771a",
   "metadata": {},
   "outputs": [],
   "source": [
    "# Install cmlapi package\n",
    "try:\n",
    "    import cmlapi\n",
    "except ModuleNotFoundError:\n",
    "    import os\n",
    "\n",
    "    cluster = os.getenv(\"CDSW_API_URL\")[:-1] + \"2\"\n",
    "    !pip3 install {cluster}/python.tar.gz\n",
    "    import cmlapi\n",
    "\n",
    "from cmlapi.utils import Cursor\n",
    "import string\n",
    "import random\n",
    "import json"
   ]
  },
  {
   "cell_type": "code",
   "execution_count": 2,
   "id": "2494d46a-15ac-4eea-b7b2-b01c47992c58",
   "metadata": {},
   "outputs": [],
   "source": [
    "import sys\n",
    "import os\n",
    "import pickle\n",
    "\n",
    "%load_ext lab_black"
   ]
  },
  {
   "cell_type": "code",
   "execution_count": 5,
   "id": "f87c6bc9-a2d2-46e3-95c2-feb5169c7cd9",
   "metadata": {},
   "outputs": [],
   "source": [
    "client = cmlapi.default_client()"
   ]
  },
  {
   "cell_type": "markdown",
   "id": "900be209-d7f2-4734-b1ea-6a655bb7a4ee",
   "metadata": {},
   "source": [
    "## Using Model Metrics Feature"
   ]
  },
  {
   "cell_type": "code",
   "execution_count": 6,
   "id": "bea4ddae-11d9-46d2-b6fc-82ad8bc81c1f",
   "metadata": {},
   "outputs": [],
   "source": [
    "import cdsw\n",
    "import time\n",
    "\n",
    "import sklearn\n",
    "import numpy as np\n",
    "import pandas as pd"
   ]
  },
  {
   "cell_type": "markdown",
   "id": "c1b0cbc8-34ae-43e9-8dd3-705816c85b63",
   "metadata": {},
   "source": [
    "### Get Model Deployment Details via CML APIv2\n",
    "\n",
    "Must first get Model details > then can use that to obtain Build Details > then can use that to obtain Model Deployment Details.\n",
    "\n",
    "More details on what each of these abstractions are can be found in the [Cloudera Docs](https://docs.cloudera.com/machine-learning/cloud/models/topics/ml-model-concepts-and-terminology.html)."
   ]
  },
  {
   "cell_type": "markdown",
   "id": "ca0cf6f7-a3e7-4a06-9d49-8f5407d1525d",
   "metadata": {},
   "source": [
    "#### Get Model Details"
   ]
  },
  {
   "cell_type": "code",
   "execution_count": 90,
   "id": "11b6ba11-236c-4a00-b95d-d6d47a790234",
   "metadata": {},
   "outputs": [],
   "source": [
    "project_id = os.environ[\"CDSW_PROJECT_ID\"]\n",
    "\n",
    "models = client.list_models(project_id=project_id, async_req=True).get().to_dict()"
   ]
  },
  {
   "cell_type": "code",
   "execution_count": 91,
   "id": "fba6a646-8fe3-4a82-9097-4520a8dc6776",
   "metadata": {},
   "outputs": [],
   "source": [
    "model_info = models[\"models\"][-1]  # most recent model\n",
    "\n",
    "model_id = model_info[\"id\"]\n",
    "model_crn = model_info[\"crn\"]\n",
    "model_access_key = model_info[\"access_key\"]"
   ]
  },
  {
   "cell_type": "code",
   "execution_count": 92,
   "id": "e6ffd713-c762-43e1-9635-2081d65d2c83",
   "metadata": {},
   "outputs": [
    {
     "data": {
      "text/plain": [
       "{'id': '069b6410-4142-49fb-b0e6-9b281c2e5e5a',\n",
       " 'name': 'Price Regressor8',\n",
       " 'description': 'adgasdf',\n",
       " 'creator': {'username': 'areed',\n",
       "  'name': 'Andrew Reed',\n",
       "  'email': 'areed@cloudera.com'},\n",
       " 'access_key': 'mvmfmryln256qsbfu3u1vmlfltocq9io',\n",
       " 'deletion_status': '',\n",
       " 'created_at': datetime.datetime(2021, 11, 23, 15, 0, 10, 343379, tzinfo=tzlocal()),\n",
       " 'updated_at': datetime.datetime(2021, 11, 23, 15, 0, 10, 343379, tzinfo=tzlocal()),\n",
       " 'crn': 'crn:cdp:ml:us-west-1:12a0079b-1591-4ca0-b721-a446bda74e67:workspace:1e08299d-97ac-4d5e-8c21-d77745ce0a1c/069b6410-4142-49fb-b0e6-9b281c2e5e5a',\n",
       " 'auth_enabled': False}"
      ]
     },
     "execution_count": 92,
     "metadata": {},
     "output_type": "execute_result"
    }
   ],
   "source": [
    "model_info"
   ]
  },
  {
   "cell_type": "markdown",
   "id": "7251be58-3b98-417f-a716-213666c21167",
   "metadata": {},
   "source": [
    "#### Get Build Details"
   ]
  },
  {
   "cell_type": "code",
   "execution_count": 93,
   "id": "f98bb5e5-4512-4e2b-9412-b46c41c67d33",
   "metadata": {},
   "outputs": [],
   "source": [
    "builds = (\n",
    "    client.list_model_builds(project_id=project_id, model_id=model_id, async_req=True)\n",
    "    .get()\n",
    "    .to_dict()\n",
    ")\n",
    "\n",
    "build_info = builds[\"model_builds\"][-1]  # most recent build\n",
    "build_id = build_info[\"id\"]"
   ]
  },
  {
   "cell_type": "code",
   "execution_count": 94,
   "id": "de032c44-fae7-4d73-a0c8-fca23d3384d2",
   "metadata": {},
   "outputs": [
    {
     "data": {
      "text/plain": [
       "{'id': '099a0f74-14a5-4e46-9802-d20674e3e71e',\n",
       " 'model_id': '069b6410-4142-49fb-b0e6-9b281c2e5e5a',\n",
       " 'creator': {'username': 'areed',\n",
       "  'name': 'Andrew Reed',\n",
       "  'email': 'areed@cloudera.com'},\n",
       " 'comment': 'Initial revision.',\n",
       " 'file_path': 'predict.py',\n",
       " 'function_name': 'predict',\n",
       " 'engine_image': '',\n",
       " 'kernel': 'Python 3.8',\n",
       " 'created_at': datetime.datetime(2021, 11, 23, 15, 0, 10, 348131, tzinfo=tzlocal()),\n",
       " 'updated_at': datetime.datetime(2021, 11, 23, 15, 0, 55, 953662, tzinfo=tzlocal()),\n",
       " 'status': 'built',\n",
       " 'deletion_status': '',\n",
       " 'crn': 'crn:cdp:ml:us-west-1:12a0079b-1591-4ca0-b721-a446bda74e67:workspace:1e08299d-97ac-4d5e-8c21-d77745ce0a1c/099a0f74-14a5-4e46-9802-d20674e3e71e',\n",
       " 'built_at': datetime.datetime(1, 1, 1, 0, 0, tzinfo=tzlocal()),\n",
       " 'runtime_identifier': 'docker.repository.cloudera.com/cdsw/ml-runtime-workbench-python3.8-standard:2021.09.1-b5'}"
      ]
     },
     "execution_count": 94,
     "metadata": {},
     "output_type": "execute_result"
    }
   ],
   "source": [
    "build_info"
   ]
  },
  {
   "cell_type": "code",
   "execution_count": 95,
   "id": "a37a6825-1fbf-4973-9e37-474e6d039d38",
   "metadata": {},
   "outputs": [
    {
     "data": {
      "text/plain": [
       "'099a0f74-14a5-4e46-9802-d20674e3e71e'"
      ]
     },
     "execution_count": 95,
     "metadata": {},
     "output_type": "execute_result"
    }
   ],
   "source": [
    "build_id"
   ]
  },
  {
   "cell_type": "markdown",
   "id": "9bc9329a-5813-4956-9f19-b9632c1d9417",
   "metadata": {},
   "source": [
    "#### Get Deployment Details"
   ]
  },
  {
   "cell_type": "code",
   "execution_count": 96,
   "id": "5436e977-2e84-492d-a1ae-08f96c496110",
   "metadata": {},
   "outputs": [],
   "source": [
    "deployments = (\n",
    "    client.list_model_deployments(\n",
    "        project_id=project_id, model_id=model_id, build_id=build_id, async_req=True\n",
    "    )\n",
    "    .get()\n",
    "    .to_dict()\n",
    ")\n",
    "\n",
    "deployment_info = deployments[\"model_deployments\"][-1]  # most recent deployment\n",
    "model_deployment_crn = deployment_info[\"crn\"]"
   ]
  },
  {
   "cell_type": "code",
   "execution_count": 97,
   "id": "e711b591-0a33-4d27-bba8-bfae9bf9105e",
   "metadata": {},
   "outputs": [
    {
     "data": {
      "text/plain": [
       "'crn:cdp:ml:us-west-1:12a0079b-1591-4ca0-b721-a446bda74e67:workspace:1e08299d-97ac-4d5e-8c21-d77745ce0a1c/864e0f70-6089-49ef-95a4-fcd8ef117aa6'"
      ]
     },
     "execution_count": 97,
     "metadata": {},
     "output_type": "execute_result"
    }
   ],
   "source": [
    "model_deployment_crn"
   ]
  },
  {
   "cell_type": "code",
   "execution_count": 98,
   "id": "d2c8b159-d538-43ba-a4a9-5b4a3a15abd6",
   "metadata": {},
   "outputs": [],
   "source": [
    "def get_latest_deployment_details(client, model_name):\n",
    "    \"\"\"\n",
    "    Given a APIv2 client object and Model Name, use APIv2 to retrieve details about the latest/current deployment.\n",
    "\n",
    "    This function only works for models deployed within the current project.\n",
    "    \"\"\"\n",
    "\n",
    "    project_id = os.environ[\"CDSW_PROJECT_ID\"]\n",
    "\n",
    "    # gather model details\n",
    "    models = client.list_models(project_id=project_id, async_req=True).get().to_dict()\n",
    "    model_info = [model for model in models[\"models\"] if model[\"name\"] == model_name][0]\n",
    "\n",
    "    model_id = model_info[\"id\"]\n",
    "    model_crn = model_info[\"crn\"]\n",
    "    model_access_key = model_info[\"access_key\"]\n",
    "\n",
    "    # gather latest build details\n",
    "    builds = (\n",
    "        client.list_model_builds(\n",
    "            project_id=project_id, model_id=model_id, async_req=True\n",
    "        )\n",
    "        .get()\n",
    "        .to_dict()\n",
    "    )\n",
    "    build_info = builds[\"model_builds\"][-1]  # most recent build\n",
    "\n",
    "    build_id = build_info[\"id\"]\n",
    "\n",
    "    # gather latest deployment details\n",
    "    deployments = (\n",
    "        client.list_model_deployments(\n",
    "            project_id=project_id, model_id=model_id, build_id=build_id, async_req=True\n",
    "        )\n",
    "        .get()\n",
    "        .to_dict()\n",
    "    )\n",
    "    deployment_info = deployments[\"model_deployments\"][-1]  # most recent deployment\n",
    "\n",
    "    model_deployment_crn = deployment_info[\"crn\"]\n",
    "\n",
    "    return {\n",
    "        \"model_name\": model_name,\n",
    "        \"model_id\": model_id,\n",
    "        \"model_crn\": model_crn,\n",
    "        \"model_access_key\": model_access_key,\n",
    "        \"latest_build_id\": build_id,\n",
    "        \"latest_deployment_crn\": model_deployment_crn,\n",
    "    }"
   ]
  },
  {
   "cell_type": "code",
   "execution_count": 99,
   "id": "f9476dad-9cf3-434d-8fa8-a6e71ae8b194",
   "metadata": {},
   "outputs": [],
   "source": [
    "latest_deployment_details = get_latest_deployment_details(\n",
    "    client=client, model_name=\"Price Regressor8\"\n",
    ")"
   ]
  },
  {
   "cell_type": "code",
   "execution_count": 100,
   "id": "fec0a0db-e11a-4c6f-9d48-8db03078555f",
   "metadata": {},
   "outputs": [
    {
     "data": {
      "text/plain": [
       "{'model_name': 'Price Regressor8',\n",
       " 'model_id': '069b6410-4142-49fb-b0e6-9b281c2e5e5a',\n",
       " 'model_crn': 'crn:cdp:ml:us-west-1:12a0079b-1591-4ca0-b721-a446bda74e67:workspace:1e08299d-97ac-4d5e-8c21-d77745ce0a1c/069b6410-4142-49fb-b0e6-9b281c2e5e5a',\n",
       " 'model_access_key': 'mvmfmryln256qsbfu3u1vmlfltocq9io',\n",
       " 'latest_build_id': '099a0f74-14a5-4e46-9802-d20674e3e71e',\n",
       " 'latest_deployment_crn': 'crn:cdp:ml:us-west-1:12a0079b-1591-4ca0-b721-a446bda74e67:workspace:1e08299d-97ac-4d5e-8c21-d77745ce0a1c/864e0f70-6089-49ef-95a4-fcd8ef117aa6'}"
      ]
     },
     "execution_count": 100,
     "metadata": {},
     "output_type": "execute_result"
    }
   ],
   "source": [
    "latest_deployment_details"
   ]
  },
  {
   "cell_type": "markdown",
   "id": "38130f2c-28ed-4f70-b6c1-a27400fb8722",
   "metadata": {},
   "source": [
    "### Load up prod_df to make inference and log metrics\n",
    "\n",
    "The model metrics feature is not built to handle batch inference - while we can pass batches of data back and forth, the `cdsw.track_metric()` method is set make one database write (aka one UUID) per request - this means it cannot store large arrays of predictions in single write. \n",
    "\n",
    "Therefore, we will send one request per record via a loop. This will give us a UUID and separate database entry for each prediction."
   ]
  },
  {
   "cell_type": "code",
   "execution_count": 101,
   "id": "1adcee07-3f9f-44b6-a29f-9e9474ce997c",
   "metadata": {},
   "outputs": [],
   "source": [
    "train_df = pd.read_pickle(\"../data/working/train_df.pkl\")"
   ]
  },
  {
   "cell_type": "code",
   "execution_count": 102,
   "id": "4fff21fb-dfbe-4240-9dec-273c83d97b64",
   "metadata": {},
   "outputs": [],
   "source": [
    "def cast_date_as_str_for_json(df):\n",
    "    \"\"\"Given a dataframe, return the same dataframe with non-numeric columns cast as string\"\"\"\n",
    "\n",
    "    for column, dt in zip(df.columns, df.dtypes):\n",
    "        if dt.type not in [np.int64, np.float64]:\n",
    "            df.loc[:, column] = df[column].astype(str)\n",
    "    return df"
   ]
  },
  {
   "cell_type": "code",
   "execution_count": 103,
   "id": "d54c471d-38a2-4544-a476-b330a803c292",
   "metadata": {
    "tags": []
   },
   "outputs": [],
   "source": [
    "# data must be JSON serializable, therefore convert df to list of dict records\n",
    "# also first change any TimeStamp dtype columns to string\n",
    "\n",
    "# data_input = {\"df\": cast_date_as_str_for_json(train_df).to_dict(orient=\"records\")}\n",
    "\n",
    "# response = cdsw.call_model(\n",
    "#     model_access_key=latest_deployment_details[\"model_access_key\"], ipt=data_input\n",
    "# )"
   ]
  },
  {
   "cell_type": "markdown",
   "id": "173247ae-c3c9-4fb9-adbb-c910b9afacb1",
   "metadata": {},
   "source": [
    "## Test online inference"
   ]
  },
  {
   "cell_type": "code",
   "execution_count": 104,
   "id": "58394826-8629-45be-bf57-77d3f55de74f",
   "metadata": {},
   "outputs": [],
   "source": [
    "input_records = cast_date_as_str_for_json(train_df).to_dict(orient=\"records\")"
   ]
  },
  {
   "cell_type": "code",
   "execution_count": 108,
   "id": "ba5cf85c-fdbd-4786-a8e7-86f793a883a2",
   "metadata": {},
   "outputs": [],
   "source": [
    "import cdsw\n",
    "import concurrent\n",
    "import threading\n",
    "\n",
    "\n",
    "class ThreadedModelRequest:\n",
    "    \"\"\"\n",
    "    Utilize multi-threading to achieve concurrency and speed up I/O bottleneck associated\n",
    "    with making a large number of synchronous API calls to the model endpoint.\n",
    "\n",
    "    Note - this function can also be implemented with cdsw.call_model()\n",
    "\n",
    "    \"\"\"\n",
    "\n",
    "    def __init__(self, deployment_details, n_threads=2):\n",
    "        self.n_threads = n_threads\n",
    "        self.deployment_details = deployment_details\n",
    "        self.model_service_url = cdsw._get_model_call_endpoint()\n",
    "        self.thread_local = threading.local()\n",
    "\n",
    "    def get_session(self):\n",
    "        if not hasattr(self.thread_local, \"session\"):\n",
    "            self.thread_local.session = requests.Session()\n",
    "        return self.thread_local.session\n",
    "\n",
    "    def call_model(self, record):\n",
    "\n",
    "        headers = {\n",
    "            \"Content-Type\": \"application/json\",\n",
    "        }\n",
    "        data = {\n",
    "            \"accessKey\": self.deployment_details[\"model_access_key\"],\n",
    "            \"request\": {\"record\": record},\n",
    "        }\n",
    "\n",
    "        session = self.get_session()\n",
    "        response = session.post(\n",
    "            url=self.model_service_url,\n",
    "            headers=headers,\n",
    "            data=json.dumps(data),\n",
    "        ).json()\n",
    "\n",
    "        return record[\"id\"], response[\"response\"][\"uuid\"]\n",
    "\n",
    "    def call_model_cdsw(self, record):\n",
    "        \"\"\"\n",
    "        Not Implemented - currently performs 42% slower than call_model.\n",
    "        Threading cant be properly implemented\n",
    "        \"\"\"\n",
    "\n",
    "        response = cdsw.call_model(\n",
    "            model_access_key=self.deployment_details[\"model_access_key\"],\n",
    "            ipt={\"record\": record},\n",
    "        )\n",
    "\n",
    "        return record[\"id\"], response[\"response\"][\"uuid\"]\n",
    "\n",
    "    def threaded_call(self, records):\n",
    "\n",
    "        start_timestamp_ms = int(round(time.time() * 1000))\n",
    "\n",
    "        results = []\n",
    "        with concurrent.futures.ThreadPoolExecutor(\n",
    "            max_workers=self.n_threads\n",
    "        ) as executor:\n",
    "            completed = executor.map(self.call_model, records)\n",
    "\n",
    "        results.extend(completed)\n",
    "\n",
    "        end_timestamp_ms = int(round(time.time() * 1000))\n",
    "\n",
    "        return {\n",
    "            \"start_timestamp_ms\": start_timestamp_ms,\n",
    "            \"end_timestamp_ms\": end_timestamp_ms,\n",
    "            \"id_uuid_mapping\": dict(results),\n",
    "        }"
   ]
  },
  {
   "cell_type": "code",
   "execution_count": 109,
   "id": "2f5819c7-878d-4da2-a3ea-41ce9f590769",
   "metadata": {},
   "outputs": [],
   "source": [
    "test_records = input_records[:2000]"
   ]
  },
  {
   "cell_type": "code",
   "execution_count": 111,
   "id": "f4a0f83c-acb6-4839-85f5-21de2f8c9006",
   "metadata": {},
   "outputs": [
    {
     "name": "stdout",
     "output_type": "stream",
     "text": [
      "CPU times: user 7.12 s, sys: 187 ms, total: 7.31 s\n",
      "Wall time: 1min 6s\n"
     ]
    }
   ],
   "source": [
    "%%time\n",
    "tmr = ThreadedModelRequest(deployment_details=latest_deployment_details)\n",
    "test = tmr.threaded_call(test_records)"
   ]
  },
  {
   "cell_type": "code",
   "execution_count": 118,
   "id": "9b1d6f0f-7be2-4b3a-9f49-01d38a30939c",
   "metadata": {
    "tags": []
   },
   "outputs": [
    {
     "data": {
      "text/plain": [
       "1637679735775"
      ]
     },
     "execution_count": 118,
     "metadata": {},
     "output_type": "execute_result"
    }
   ],
   "source": [
    "test[\"start_timestamp_ms\"]"
   ]
  },
  {
   "cell_type": "markdown",
   "id": "41bb6791-aa46-4de6-86b6-f5b32eabe486",
   "metadata": {},
   "source": [
    "## Query Metric Store"
   ]
  },
  {
   "cell_type": "code",
   "execution_count": 113,
   "id": "b1a3eb7b-8297-4e8b-be79-909281de96d3",
   "metadata": {},
   "outputs": [],
   "source": [
    "metrics = cdsw.read_metrics(\n",
    "    model_deployment_crn=latest_deployment_details[\"latest_deployment_crn\"]\n",
    ")"
   ]
  },
  {
   "cell_type": "code",
   "execution_count": 116,
   "id": "16eacd89-289c-450a-9edc-5426af4e8fa6",
   "metadata": {},
   "outputs": [
    {
     "data": {
      "text/plain": [
       "{'modelDeploymentCrn': 'crn:cdp:ml:us-west-1:12a0079b-1591-4ca0-b721-a446bda74e67:workspace:1e08299d-97ac-4d5e-8c21-d77745ce0a1c/864e0f70-6089-49ef-95a4-fcd8ef117aa6',\n",
       " 'modelBuildCrn': 'crn:cdp:ml:us-west-1:12a0079b-1591-4ca0-b721-a446bda74e67:workspace:1e08299d-97ac-4d5e-8c21-d77745ce0a1c/099a0f74-14a5-4e46-9802-d20674e3e71e',\n",
       " 'modelCrn': 'crn:cdp:ml:us-west-1:12a0079b-1591-4ca0-b721-a446bda74e67:workspace:1e08299d-97ac-4d5e-8c21-d77745ce0a1c/069b6410-4142-49fb-b0e6-9b281c2e5e5a',\n",
       " 'startTimeStampMs': 1637679773605,\n",
       " 'endTimeStampMs': 1637679773612,\n",
       " 'predictionUuid': '6b3a7aee-7272-47c7-a8d0-47b036a3d79b',\n",
       " 'metrics': {'input_features': {'view': 3,\n",
       "   'zipcode': 98034,\n",
       "   'bedrooms': 3,\n",
       "   'sqft_lot': 13095,\n",
       "   'bathrooms': 4,\n",
       "   'condition': 3,\n",
       "   'waterfront': 0,\n",
       "   'sqft_living': 3880},\n",
       "  'predicted_result': 1090097.0154739222}}"
      ]
     },
     "execution_count": 116,
     "metadata": {},
     "output_type": "execute_result"
    }
   ],
   "source": [
    "metrics[\"metrics\"][0]"
   ]
  },
  {
   "cell_type": "code",
   "execution_count": null,
   "id": "ab2bd1c4-618c-488a-9d01-add380ef1749",
   "metadata": {},
   "outputs": [],
   "source": []
  },
  {
   "cell_type": "code",
   "execution_count": null,
   "id": "8f8e66b9-3274-4909-b24c-463edf4bc6cb",
   "metadata": {},
   "outputs": [],
   "source": []
  },
  {
   "cell_type": "code",
   "execution_count": null,
   "id": "011015ea-9113-4ab4-8c12-ed9ec9eeb0ab",
   "metadata": {},
   "outputs": [],
   "source": []
  },
  {
   "cell_type": "code",
   "execution_count": null,
   "id": "622bf88e-c864-4e44-b891-cbb7b48dd363",
   "metadata": {},
   "outputs": [],
   "source": []
  },
  {
   "cell_type": "code",
   "execution_count": null,
   "id": "ebac7e04-6cb4-40dc-9175-e3dba5daf980",
   "metadata": {},
   "outputs": [],
   "source": []
  },
  {
   "cell_type": "markdown",
   "id": "5d63eb34-0e92-48d6-80c3-60ea0a202735",
   "metadata": {},
   "source": [
    "#### Test `cdsw.read_metrics()`"
   ]
  },
  {
   "cell_type": "code",
   "execution_count": 189,
   "id": "a5bd2ae7-56b4-4812-8c4e-638e09d31292",
   "metadata": {},
   "outputs": [],
   "source": [
    "metrics = cdsw.read_metrics(\n",
    "    model_deployment_crn=latest_deployment_details[\"latest_deployment_crn\"]\n",
    ")"
   ]
  },
  {
   "cell_type": "code",
   "execution_count": 158,
   "id": "33f9643b-671e-44b0-b0e5-69280365c706",
   "metadata": {},
   "outputs": [
    {
     "data": {
      "text/plain": [
       "{'modelDeploymentCrn': 'crn:cdp:ml:us-west-1:12a0079b-1591-4ca0-b721-a446bda74e67:workspace:1e08299d-97ac-4d5e-8c21-d77745ce0a1c/57bbbe61-1ff6-4099-b8cc-aa9e64d7a3b6',\n",
       " 'modelBuildCrn': 'crn:cdp:ml:us-west-1:12a0079b-1591-4ca0-b721-a446bda74e67:workspace:1e08299d-97ac-4d5e-8c21-d77745ce0a1c/ad92b008-0c7e-4958-aa79-2a284b365379',\n",
       " 'modelCrn': 'crn:cdp:ml:us-west-1:12a0079b-1591-4ca0-b721-a446bda74e67:workspace:1e08299d-97ac-4d5e-8c21-d77745ce0a1c/6154e1d9-cd26-44e0-beb1-d76284fcf815',\n",
       " 'startTimeStampMs': 1637599752886,\n",
       " 'endTimeStampMs': 1637599752895,\n",
       " 'predictionUuid': '4054acb6-32fe-428d-b929-eb1b6186ed01',\n",
       " 'metrics': {'input_features': {'view': 0,\n",
       "   'zipcode': 98102,\n",
       "   'bedrooms': 3,\n",
       "   'sqft_lot': 1572,\n",
       "   'bathrooms': 2.25,\n",
       "   'condition': 3,\n",
       "   'waterfront': 0,\n",
       "   'sqft_living': 1750},\n",
       "  'predicted_result': 624104.3176691445}}"
      ]
     },
     "execution_count": 158,
     "metadata": {},
     "output_type": "execute_result"
    }
   ],
   "source": [
    "metrics[\"metrics\"][0]"
   ]
  },
  {
   "cell_type": "code",
   "execution_count": null,
   "id": "bc285679-5086-419d-b36f-d5ef17f9a1f6",
   "metadata": {},
   "outputs": [],
   "source": []
  },
  {
   "cell_type": "code",
   "execution_count": null,
   "id": "5740b4c5-15a0-4085-b39c-e4f5b88818d2",
   "metadata": {},
   "outputs": [],
   "source": []
  },
  {
   "cell_type": "code",
   "execution_count": null,
   "id": "65a8891d-7386-4e6e-875b-5297ed8d5ff2",
   "metadata": {},
   "outputs": [],
   "source": []
  },
  {
   "cell_type": "markdown",
   "id": "a32ddf2f-57f4-4ee1-b716-a116233e1858",
   "metadata": {},
   "source": [
    "#### Local walkthrough inference testing"
   ]
  },
  {
   "cell_type": "code",
   "execution_count": 25,
   "id": "3659172f-b88b-466d-872b-bcd11eb7baaa",
   "metadata": {},
   "outputs": [],
   "source": [
    "with open(\"../model.pkl\", \"rb\") as f:\n",
    "    model = pickle.load(f)"
   ]
  },
  {
   "cell_type": "code",
   "execution_count": null,
   "id": "23fd26e9-2fd8-4660-aaf8-d30bc1accdb3",
   "metadata": {},
   "outputs": [],
   "source": [
    "inpu"
   ]
  },
  {
   "cell_type": "code",
   "execution_count": 103,
   "id": "c4ca6419-d8fe-4fa0-a992-455f05035602",
   "metadata": {},
   "outputs": [
    {
     "data": {
      "text/plain": [
       "{'id': 1962200037,\n",
       " 'price': 626000.0,\n",
       " 'bedrooms': 3,\n",
       " 'bathrooms': 2.25,\n",
       " 'sqft_living': 1750,\n",
       " 'sqft_lot': 1572,\n",
       " 'floors': 2.5,\n",
       " 'waterfront': 0,\n",
       " 'view': 0,\n",
       " 'condition': 3,\n",
       " 'grade': 9,\n",
       " 'sqft_above': 1470,\n",
       " 'sqft_basement': 280,\n",
       " 'yr_built': 2005,\n",
       " 'yr_renovated': 0,\n",
       " 'zipcode': 98102,\n",
       " 'lat': 47.6498,\n",
       " 'long': -122.321,\n",
       " 'sqft_living15': 2410,\n",
       " 'sqft_lot15': 3050,\n",
       " 'date_sold': '2014-05-02',\n",
       " 'date_listed': '2014-03-04'}"
      ]
     },
     "execution_count": 103,
     "metadata": {},
     "output_type": "execute_result"
    }
   ],
   "source": [
    "single_record"
   ]
  },
  {
   "cell_type": "code",
   "execution_count": 105,
   "id": "28eec1f8-bfdf-4b16-81a1-751f3df9646a",
   "metadata": {},
   "outputs": [],
   "source": [
    "single_record = input_records[0]\n",
    "\n",
    "df = pd.DataFrame.from_records([single_record])\n",
    "result = model.predict(df).item()"
   ]
  },
  {
   "cell_type": "code",
   "execution_count": 118,
   "id": "c1e7a0a3-dcc3-416e-87ad-c07bf1329cca",
   "metadata": {},
   "outputs": [
    {
     "data": {
      "text/plain": [
       "['bedrooms',\n",
       " 'bathrooms',\n",
       " 'sqft_living',\n",
       " 'sqft_lot',\n",
       " 'waterfront',\n",
       " 'zipcode',\n",
       " 'condition',\n",
       " 'view']"
      ]
     },
     "execution_count": 118,
     "metadata": {},
     "output_type": "execute_result"
    }
   ],
   "source": [
    "get_active_feature_names(model.named_steps[\"preprocess\"])"
   ]
  },
  {
   "cell_type": "code",
   "execution_count": 106,
   "id": "692e96cb-5d74-44c5-8e0d-e0b3184d310d",
   "metadata": {},
   "outputs": [
    {
     "data": {
      "text/plain": [
       "624104.3176691445"
      ]
     },
     "execution_count": 106,
     "metadata": {},
     "output_type": "execute_result"
    }
   ],
   "source": [
    "result"
   ]
  },
  {
   "cell_type": "code",
   "execution_count": 107,
   "id": "8d8fbd9b-4992-4467-876f-44f315916ea0",
   "metadata": {
    "tags": []
   },
   "outputs": [],
   "source": [
    "def get_active_feature_names(\n",
    "    column_transformer: sklearn.compose._column_transformer.ColumnTransformer,\n",
    "):\n",
    "    \"\"\"Inspect the transformer steps in a given sklearn.ColumnTransformer to collect and\n",
    "    return the names of all features that are not dropped as part of the pipeline.\"\"\"\n",
    "\n",
    "    active_steps = [\n",
    "        k for k, v in column_transformer.named_transformers_.items() if v != \"drop\"\n",
    "    ]\n",
    "\n",
    "    return np.concatenate(\n",
    "        [t.named_transformers_[step].feature_names_in_ for step in active_steps]\n",
    "    ).tolist()"
   ]
  },
  {
   "cell_type": "code",
   "execution_count": 108,
   "id": "93264e2c-27f5-4169-ae02-fa7804c9dff5",
   "metadata": {},
   "outputs": [],
   "source": [
    "active_feats = get_active_feature_names(model.named_steps[\"preprocess\"])"
   ]
  },
  {
   "cell_type": "code",
   "execution_count": 119,
   "id": "34d0b11b-7248-4761-ab47-e0850f4864ae",
   "metadata": {},
   "outputs": [
    {
     "data": {
      "text/html": [
       "<div>\n",
       "<style scoped>\n",
       "    .dataframe tbody tr th:only-of-type {\n",
       "        vertical-align: middle;\n",
       "    }\n",
       "\n",
       "    .dataframe tbody tr th {\n",
       "        vertical-align: top;\n",
       "    }\n",
       "\n",
       "    .dataframe thead th {\n",
       "        text-align: right;\n",
       "    }\n",
       "</style>\n",
       "<table border=\"1\" class=\"dataframe\">\n",
       "  <thead>\n",
       "    <tr style=\"text-align: right;\">\n",
       "      <th></th>\n",
       "      <th>bedrooms</th>\n",
       "      <th>bathrooms</th>\n",
       "      <th>sqft_living</th>\n",
       "      <th>sqft_lot</th>\n",
       "      <th>waterfront</th>\n",
       "      <th>zipcode</th>\n",
       "      <th>condition</th>\n",
       "      <th>view</th>\n",
       "    </tr>\n",
       "  </thead>\n",
       "  <tbody>\n",
       "    <tr>\n",
       "      <th>0</th>\n",
       "      <td>3</td>\n",
       "      <td>2.25</td>\n",
       "      <td>1750</td>\n",
       "      <td>1572</td>\n",
       "      <td>0</td>\n",
       "      <td>98102</td>\n",
       "      <td>3</td>\n",
       "      <td>0</td>\n",
       "    </tr>\n",
       "  </tbody>\n",
       "</table>\n",
       "</div>"
      ],
      "text/plain": [
       "   bedrooms  bathrooms  sqft_living  sqft_lot  waterfront  zipcode  condition  \\\n",
       "0         3       2.25         1750      1572           0    98102          3   \n",
       "\n",
       "   view  \n",
       "0     0  "
      ]
     },
     "execution_count": 119,
     "metadata": {},
     "output_type": "execute_result"
    }
   ],
   "source": [
    "df[active_feats]"
   ]
  },
  {
   "cell_type": "code",
   "execution_count": 116,
   "id": "e26fa98f-0656-4086-9058-e6352770f047",
   "metadata": {},
   "outputs": [
    {
     "data": {
      "text/plain": [
       "{'bedrooms': 3,\n",
       " 'bathrooms': 2.25,\n",
       " 'sqft_living': 1750,\n",
       " 'sqft_lot': 1572,\n",
       " 'waterfront': 0,\n",
       " 'zipcode': 98102,\n",
       " 'condition': 3,\n",
       " 'view': 0}"
      ]
     },
     "execution_count": 116,
     "metadata": {},
     "output_type": "execute_result"
    }
   ],
   "source": [
    "df[active_feats].to_dict(orient=\"records\")[0]"
   ]
  },
  {
   "cell_type": "code",
   "execution_count": null,
   "id": "6162abbd-d415-45a7-95ad-dd773219c6ca",
   "metadata": {},
   "outputs": [],
   "source": [
    "df.to_dict()"
   ]
  },
  {
   "cell_type": "code",
   "execution_count": 161,
   "id": "a0062307-43cb-4438-b34c-91d4f08cab60",
   "metadata": {},
   "outputs": [
    {
     "data": {
      "text/html": [
       "<div>\n",
       "<style scoped>\n",
       "    .dataframe tbody tr th:only-of-type {\n",
       "        vertical-align: middle;\n",
       "    }\n",
       "\n",
       "    .dataframe tbody tr th {\n",
       "        vertical-align: top;\n",
       "    }\n",
       "\n",
       "    .dataframe thead th {\n",
       "        text-align: right;\n",
       "    }\n",
       "</style>\n",
       "<table border=\"1\" class=\"dataframe\">\n",
       "  <thead>\n",
       "    <tr style=\"text-align: right;\">\n",
       "      <th></th>\n",
       "      <th>id</th>\n",
       "      <th>price</th>\n",
       "      <th>bedrooms</th>\n",
       "      <th>bathrooms</th>\n",
       "      <th>sqft_living</th>\n",
       "      <th>sqft_lot</th>\n",
       "      <th>floors</th>\n",
       "      <th>waterfront</th>\n",
       "      <th>view</th>\n",
       "      <th>condition</th>\n",
       "      <th>...</th>\n",
       "      <th>sqft_basement</th>\n",
       "      <th>yr_built</th>\n",
       "      <th>yr_renovated</th>\n",
       "      <th>zipcode</th>\n",
       "      <th>lat</th>\n",
       "      <th>long</th>\n",
       "      <th>sqft_living15</th>\n",
       "      <th>sqft_lot15</th>\n",
       "      <th>date_sold</th>\n",
       "      <th>date_listed</th>\n",
       "    </tr>\n",
       "  </thead>\n",
       "  <tbody>\n",
       "    <tr>\n",
       "      <th>0</th>\n",
       "      <td>1962200037</td>\n",
       "      <td>626000.0</td>\n",
       "      <td>3</td>\n",
       "      <td>2.25</td>\n",
       "      <td>1750</td>\n",
       "      <td>1572</td>\n",
       "      <td>2.5</td>\n",
       "      <td>0</td>\n",
       "      <td>0</td>\n",
       "      <td>3</td>\n",
       "      <td>...</td>\n",
       "      <td>280</td>\n",
       "      <td>2005</td>\n",
       "      <td>0</td>\n",
       "      <td>98102</td>\n",
       "      <td>47.6498</td>\n",
       "      <td>-122.321</td>\n",
       "      <td>2410</td>\n",
       "      <td>3050</td>\n",
       "      <td>2014-05-02</td>\n",
       "      <td>2014-03-04</td>\n",
       "    </tr>\n",
       "  </tbody>\n",
       "</table>\n",
       "<p>1 rows × 22 columns</p>\n",
       "</div>"
      ],
      "text/plain": [
       "           id     price  bedrooms  bathrooms  sqft_living  sqft_lot  floors  \\\n",
       "0  1962200037  626000.0         3       2.25         1750      1572     2.5   \n",
       "\n",
       "   waterfront  view  condition  ...  sqft_basement  yr_built  yr_renovated  \\\n",
       "0           0     0          3  ...            280      2005             0   \n",
       "\n",
       "   zipcode      lat     long  sqft_living15  sqft_lot15   date_sold  \\\n",
       "0    98102  47.6498 -122.321           2410        3050  2014-05-02   \n",
       "\n",
       "   date_listed  \n",
       "0   2014-03-04  \n",
       "\n",
       "[1 rows x 22 columns]"
      ]
     },
     "execution_count": 161,
     "metadata": {},
     "output_type": "execute_result"
    }
   ],
   "source": [
    "df"
   ]
  },
  {
   "cell_type": "code",
   "execution_count": null,
   "id": "9512c332-c773-4882-bea5-97b6f2e2c70c",
   "metadata": {},
   "outputs": [],
   "source": [
    "['id', 'date_sold', 'date_listed']"
   ]
  },
  {
   "cell_type": "markdown",
   "id": "a10d015a-e8ec-465d-b7b7-13e52df0a95e",
   "metadata": {},
   "source": [
    "### Tesing"
   ]
  },
  {
   "cell_type": "code",
   "execution_count": null,
   "id": "a3a86954-f293-4059-a739-fd81517bb4fb",
   "metadata": {},
   "outputs": [],
   "source": []
  },
  {
   "cell_type": "code",
   "execution_count": 7,
   "id": "1889a820-443d-42b2-83f9-10e9baa5ae46",
   "metadata": {},
   "outputs": [],
   "source": [
    "with open(\"../model.pkl\", \"rb\") as f:\n",
    "    model = pickle.load(f)"
   ]
  },
  {
   "cell_type": "code",
   "execution_count": 9,
   "id": "6cf1c94c-2373-4849-a925-d1311a2cbc67",
   "metadata": {},
   "outputs": [],
   "source": [
    "ct = model.named_steps[\"preprocess\"]"
   ]
  },
  {
   "cell_type": "code",
   "execution_count": 12,
   "id": "a124424e-bca9-4a4b-9c91-08c54b8c73a1",
   "metadata": {},
   "outputs": [],
   "source": [
    "num_pipeline = ct.named_transformers_[\"numerical\"]"
   ]
  },
  {
   "cell_type": "code",
   "execution_count": 18,
   "id": "f29b841f-800d-4994-8b14-0592c36c02a0",
   "metadata": {},
   "outputs": [
    {
     "data": {
      "text/plain": [
       "Pipeline(steps=[('impute', SimpleImputer()), ('standardize', StandardScaler()),\n",
       "                ('scale', MinMaxScaler())])"
      ]
     },
     "execution_count": 18,
     "metadata": {},
     "output_type": "execute_result"
    }
   ],
   "source": [
    "num_pipeline"
   ]
  },
  {
   "cell_type": "code",
   "execution_count": 19,
   "id": "d53134e8-c6cd-4d39-8d8d-9dfa7c13c1ae",
   "metadata": {},
   "outputs": [
    {
     "ename": "AttributeError",
     "evalue": "Transformer numerical (type Pipeline) does not provide get_feature_names.",
     "output_type": "error",
     "traceback": [
      "\u001b[0;31m---------------------------------------------------------------------------\u001b[0m",
      "\u001b[0;31mAttributeError\u001b[0m                            Traceback (most recent call last)",
      "\u001b[0;32m<ipython-input-19-146346d60f0a>\u001b[0m in \u001b[0;36m<module>\u001b[0;34m\u001b[0m\n\u001b[0;32m----> 1\u001b[0;31m \u001b[0mct\u001b[0m\u001b[0;34m.\u001b[0m\u001b[0mget_feature_names\u001b[0m\u001b[0;34m(\u001b[0m\u001b[0;34m)\u001b[0m\u001b[0;34m\u001b[0m\u001b[0;34m\u001b[0m\u001b[0m\n\u001b[0m",
      "\u001b[0;32m~/.local/lib/python3.6/site-packages/sklearn/compose/_column_transformer.py\u001b[0m in \u001b[0;36mget_feature_names\u001b[0;34m(self)\u001b[0m\n\u001b[1;32m    371\u001b[0m                 raise AttributeError(\"Transformer %s (type %s) does not \"\n\u001b[1;32m    372\u001b[0m                                      \u001b[0;34m\"provide get_feature_names.\"\u001b[0m\u001b[0;34m\u001b[0m\u001b[0;34m\u001b[0m\u001b[0m\n\u001b[0;32m--> 373\u001b[0;31m                                      % (str(name), type(trans).__name__))\n\u001b[0m\u001b[1;32m    374\u001b[0m             feature_names.extend([name + \"__\" + f for f in\n\u001b[1;32m    375\u001b[0m                                   trans.get_feature_names()])\n",
      "\u001b[0;31mAttributeError\u001b[0m: Transformer numerical (type Pipeline) does not provide get_feature_names."
     ]
    }
   ],
   "source": [
    "ct.get_feature_names()"
   ]
  },
  {
   "cell_type": "code",
   "execution_count": null,
   "id": "e5898d75-b79d-4482-ab2c-a809f5b33232",
   "metadata": {},
   "outputs": [],
   "source": []
  },
  {
   "cell_type": "code",
   "execution_count": null,
   "id": "969e162f-ddf1-47f4-8c1a-fba45a772775",
   "metadata": {},
   "outputs": [],
   "source": []
  },
  {
   "cell_type": "code",
   "execution_count": null,
   "id": "9867f5ca-2580-4c70-bb5f-b3ee3425ee57",
   "metadata": {},
   "outputs": [],
   "source": []
  },
  {
   "cell_type": "markdown",
   "id": "987b2166-6454-4176-8750-8fceb67ae3c7",
   "metadata": {},
   "source": [
    "### APIv2 Applications"
   ]
  },
  {
   "cell_type": "code",
   "execution_count": 3,
   "id": "b9176dd4-d433-4745-9dbc-020633eb1708",
   "metadata": {},
   "outputs": [],
   "source": [
    "import cmlapi"
   ]
  },
  {
   "cell_type": "code",
   "execution_count": null,
   "id": "2fe32415-1abc-4409-998c-b10a7b168b21",
   "metadata": {},
   "outputs": [],
   "source": []
  },
  {
   "cell_type": "code",
   "execution_count": null,
   "id": "7f7f7d7a-ae86-4f7e-ae45-63b632e6aa38",
   "metadata": {},
   "outputs": [],
   "source": []
  },
  {
   "cell_type": "code",
   "execution_count": 5,
   "id": "e8519a4e-0578-4520-9055-018826d7c1fa",
   "metadata": {},
   "outputs": [
    {
     "ename": "KeyError",
     "evalue": "'PROJECT_ID'",
     "output_type": "error",
     "traceback": [
      "\u001b[0;31m---------------------------------------------------------------------------\u001b[0m",
      "\u001b[0;31mKeyError\u001b[0m                                  Traceback (most recent call last)",
      "\u001b[0;32m<ipython-input-5-7f1ee9ca2a55>\u001b[0m in \u001b[0;36m<module>\u001b[0;34m\u001b[0m\n\u001b[0;32m----> 1\u001b[0;31m \u001b[0mos\u001b[0m\u001b[0;34m.\u001b[0m\u001b[0menviron\u001b[0m\u001b[0;34m[\u001b[0m\u001b[0;34m'PROJECT_ID'\u001b[0m\u001b[0;34m]\u001b[0m\u001b[0;34m\u001b[0m\u001b[0;34m\u001b[0m\u001b[0m\n\u001b[0m",
      "\u001b[0;32m/usr/local/lib/python3.6/os.py\u001b[0m in \u001b[0;36m__getitem__\u001b[0;34m(self, key)\u001b[0m\n\u001b[1;32m    667\u001b[0m         \u001b[0;32mexcept\u001b[0m \u001b[0mKeyError\u001b[0m\u001b[0;34m:\u001b[0m\u001b[0;34m\u001b[0m\u001b[0;34m\u001b[0m\u001b[0m\n\u001b[1;32m    668\u001b[0m             \u001b[0;31m# raise KeyError with the original key value\u001b[0m\u001b[0;34m\u001b[0m\u001b[0;34m\u001b[0m\u001b[0;34m\u001b[0m\u001b[0m\n\u001b[0;32m--> 669\u001b[0;31m             \u001b[0;32mraise\u001b[0m \u001b[0mKeyError\u001b[0m\u001b[0;34m(\u001b[0m\u001b[0mkey\u001b[0m\u001b[0;34m)\u001b[0m \u001b[0;32mfrom\u001b[0m \u001b[0;32mNone\u001b[0m\u001b[0;34m\u001b[0m\u001b[0;34m\u001b[0m\u001b[0m\n\u001b[0m\u001b[1;32m    670\u001b[0m         \u001b[0;32mreturn\u001b[0m \u001b[0mself\u001b[0m\u001b[0;34m.\u001b[0m\u001b[0mdecodevalue\u001b[0m\u001b[0;34m(\u001b[0m\u001b[0mvalue\u001b[0m\u001b[0;34m)\u001b[0m\u001b[0;34m\u001b[0m\u001b[0;34m\u001b[0m\u001b[0m\n\u001b[1;32m    671\u001b[0m \u001b[0;34m\u001b[0m\u001b[0m\n",
      "\u001b[0;31mKeyError\u001b[0m: 'PROJECT_ID'"
     ]
    }
   ],
   "source": [
    "os.environ['PROJECT_ID']"
   ]
  },
  {
   "cell_type": "code",
   "execution_count": 7,
   "id": "29e0778c-0024-4b56-ae69-6626d0189c8f",
   "metadata": {},
   "outputs": [
    {
     "data": {
      "text/plain": [
       "environ{'SHELL': '/bin/bash',\n",
       "        'KUBERNETES_SERVICE_PORT_HTTPS': '443',\n",
       "        'NVIDIA_VISIBLE_DEVICES': 'void',\n",
       "        'JUPYTER_KERNEL_TIMEOUT_SECONDS': '3600',\n",
       "        'DS_RUNTIME_C4G7IA7DJDP0H674_PORT': 'tcp://172.20.14.94:20049',\n",
       "        'DS_RUNTIME_9M78TRNX1O8OJTB6_PORT_8100_TCP_ADDR': '172.20.34.211',\n",
       "        'KUBERNETES_SERVICE_PORT': '443',\n",
       "        'no_proxy': '',\n",
       "        'DS_RUNTIME_PRICE_REGRESSOR3_63_129_SERVICE_HOST': '172.20.155.224',\n",
       "        'ML_RUNTIME_EDITION': 'Standard',\n",
       "        'ML_RUNTIME_GIT_HASH': '8c7eb02a1815869afd110eae2b47858e1d0c8be3',\n",
       "        'DS_RUNTIME_C4G7IA7DJDP0H674_SERVICE_PORT_TTY': '8000',\n",
       "        'HOSTNAME': '9m78trnx1o8ojtb6',\n",
       "        'DS_RUNTIME_9M78TRNX1O8OJTB6_PORT_8090_TCP_ADDR': '172.20.34.211',\n",
       "        'LANGUAGE': 'en_US.UTF-8',\n",
       "        'DS_RUNTIME_9M78TRNX1O8OJTB6_SERVICE_PORT_READ_ONLY': '8100',\n",
       "        'DS_RUNTIME_C4G7IA7DJDP0H674_PORT_8100_TCP_ADDR': '172.20.14.94',\n",
       "        'CDSW_PUBLIC_PORT': '8080',\n",
       "        'HWC_HOME': '/usr/lib/hive_warehouse_connector',\n",
       "        'CDSW_ENGINE_TYPE': 'session',\n",
       "        'CDSW_PROJECT_DATA_CONNECTION_URL': 'https://ml-59f361b4-aac.eng-ml-l.vnu8-sqze.cloudera.site/api/v1/projects/612/data-connections',\n",
       "        'JAVA_HOME': '/usr/lib/jvm/java-8-openjdk-amd64',\n",
       "        'DS_RUNTIME_9M78TRNX1O8OJTB6_SERVICE_PORT': '20049',\n",
       "        'CDSW_DOCUMENTATION': '',\n",
       "        'DS_RUNTIME_9M78TRNX1O8OJTB6_SERVICE_HOST': '172.20.34.211',\n",
       "        'SSH_AUTH_SOCK': '/tmp/ssh-auth-sock',\n",
       "        'JUPYTERLAB_WORKSPACES_DIR': '/tmp',\n",
       "        'ML_RUNTIME_KERNEL': 'Python 3.6',\n",
       "        'DS_RUNTIME_9M78TRNX1O8OJTB6_SERVICE_PORT_APP': '8090',\n",
       "        'DS_RUNTIME_9M78TRNX1O8OJTB6_PORT_20049_TCP_PROTO': 'tcp',\n",
       "        'DS_RUNTIME_9M78TRNX1O8OJTB6_PORT_8100_TCP_PORT': '8100',\n",
       "        'DS_RUNTIME_C4G7IA7DJDP0H674_SERVICE_PORT': '20049',\n",
       "        'DS_RUNTIME_C4G7IA7DJDP0H674_PORT_20049_TCP': 'tcp://172.20.14.94:20049',\n",
       "        'DS_RUNTIME_C4G7IA7DJDP0H674_PORT_8000_TCP_PROTO': 'tcp',\n",
       "        'IDLE_MAXIMUM_MINUTES': '60',\n",
       "        'DS_RUNTIME_9M78TRNX1O8OJTB6_PORT_8090_TCP_PORT': '8090',\n",
       "        'DS_RUNTIME_C4G7IA7DJDP0H674_PORT_8100_TCP_PORT': '8100',\n",
       "        'EDITOR': 'vim',\n",
       "        'DS_RUNTIME_C4G7IA7DJDP0H674_SERVICE_PORT_SPARK': '20049',\n",
       "        'PWD': '/home/cdsw',\n",
       "        'DS_RUNTIME_C4G7IA7DJDP0H674_PORT_8100_TCP_PROTO': 'tcp',\n",
       "        'CDH_MR2_HOME': '/usr/lib/hadoop',\n",
       "        'ML_RUNTIME_EDITOR': 'JupyterLab',\n",
       "        'GIT_COMMITTER_NAME': 'Andrew Reed',\n",
       "        'CDSW_APP_PORT': '8090',\n",
       "        'DS_RUNTIME_9M78TRNX1O8OJTB6_PORT_8000_TCP': 'tcp://172.20.34.211:8000',\n",
       "        'DS_RUNTIME_PRICE_REGRESSOR3_63_129_PORT': 'tcp://172.20.155.224:3000',\n",
       "        'DS_RUNTIME_C4G7IA7DJDP0H674_SERVICE_PORT_READ_ONLY': '8100',\n",
       "        'DS_RUNTIME_9M78TRNX1O8OJTB6_PORT_8000_TCP_ADDR': '172.20.34.211',\n",
       "        'DS_RUNTIME_9M78TRNX1O8OJTB6_PORT_8000_TCP_PROTO': 'tcp',\n",
       "        'HOME': '/home/cdsw',\n",
       "        'CDSW_ENGINE_ID': '9m78trnx1o8ojtb6',\n",
       "        'ML_RUNTIME_SHORT_VERSION': '2021.09',\n",
       "        'DS_RUNTIME_9M78TRNX1O8OJTB6_PORT_20049_TCP_PORT': '20049',\n",
       "        'MLFLOW_TRACKING_URI': 'cml://localhost',\n",
       "        'LANG': 'C.UTF-8',\n",
       "        'ML_RUNTIME_GBN': '17239973',\n",
       "        'HADOOP_USER_NAME': 'areed',\n",
       "        'CDSW_DS_API_URL': 'https://ml-59f361b4-aac.eng-ml-l.vnu8-sqze.cloudera.site/api/altus-ds-1/ds',\n",
       "        'KUBERNETES_PORT_443_TCP': 'tcp://172.20.0.1:443',\n",
       "        'CDSW_READONLY_PORT': '8100',\n",
       "        'CDSW_DOMAIN': 'ml-59f361b4-aac.eng-ml-l.vnu8-sqze.cloudera.site',\n",
       "        'DS_RUNTIME_9M78TRNX1O8OJTB6_PORT_20049_TCP': 'tcp://172.20.34.211:20049',\n",
       "        'CDSW_API_URL': 'https://ml-59f361b4-aac.eng-ml-l.vnu8-sqze.cloudera.site/api/v1',\n",
       "        'HADOOP_MAPRED_HOME': '/usr/lib/hadoop-mapreduce',\n",
       "        'DS_RUNTIME_PRICE_REGRESSOR3_63_129_PORT_3000_TCP': 'tcp://172.20.155.224:3000',\n",
       "        'SESSION_MAXIMUM_MINUTES': '10080',\n",
       "        'CDSW_PROJECT_ID': 'hj39-amx3-d4b2-3p0z',\n",
       "        'https_proxy': '',\n",
       "        'CDSW_PROJECT': 'continuous-monitoring-real',\n",
       "        'CLICOLOR': '1',\n",
       "        'CDSW_CPU_MILLICORES': '1970',\n",
       "        'DS_RUNTIME_C4G7IA7DJDP0H674_PORT_20049_TCP_PORT': '20049',\n",
       "        'GIT_AUTHOR_EMAIL': 'areed@cloudera.com',\n",
       "        'ML_RUNTIME_FULL_VERSION': '2021.09.1-b5',\n",
       "        'DS_RUNTIME_9M78TRNX1O8OJTB6_PORT_8090_TCP': 'tcp://172.20.34.211:8090',\n",
       "        'DS_RUNTIME_9M78TRNX1O8OJTB6_PORT_8080_TCP': 'tcp://172.20.34.211:8080',\n",
       "        'CDSW_MASTER_ID': '9m78trnx1o8ojtb6',\n",
       "        'DS_RUNTIME_PRICE_REGRESSOR3_63_129_PORT_3000_TCP_PORT': '3000',\n",
       "        'R_BROWSER': '/var/lib/cdsw/deps/inline-browser',\n",
       "        'DS_RUNTIME_PRICE_REGRESSOR3_63_129_SERVICE_PORT': '3000',\n",
       "        'DS_RUNTIME_C4G7IA7DJDP0H674_SERVICE_HOST': '172.20.14.94',\n",
       "        'GIT_COMMITTER_EMAIL': 'areed@cloudera.com',\n",
       "        'DS_RUNTIME_9M78TRNX1O8OJTB6_PORT_8080_TCP_ADDR': '172.20.34.211',\n",
       "        'DS_RUNTIME_9M78TRNX1O8OJTB6_PORT_8080_TCP_PORT': '8080',\n",
       "        'PYTHONPATH': '${PYTHONPATH}:/opt/cmladdons/python/site-packages',\n",
       "        'TERM': 'xterm-color',\n",
       "        'HADOOP_HOME': '/usr/lib/hadoop',\n",
       "        'DS_RUNTIME_9M78TRNX1O8OJTB6_SERVICE_PORT_SPARK': '20049',\n",
       "        'CDSW_API_KEY': 'dzbm378704eunwzwivzixd6knwdo62kk',\n",
       "        'DS_RUNTIME_PRICE_REGRESSOR3_63_129_PORT_3000_TCP_PROTO': 'tcp',\n",
       "        'USER': 'cdsw',\n",
       "        'HADOOP_HDFS_HOME': '/usr/lib/hadoop-hdfs',\n",
       "        'GIT_PAGER': 'cat',\n",
       "        'NO_PROXY': '',\n",
       "        'PYTHON3_VERSION': '3.6.14',\n",
       "        'DS_RUNTIME_9M78TRNX1O8OJTB6_PORT_8100_TCP': 'tcp://172.20.34.211:8100',\n",
       "        'DS_RUNTIME_9M78TRNX1O8OJTB6_PORT_20049_TCP_ADDR': '172.20.34.211',\n",
       "        'ML_RUNTIME_DESCRIPTION': 'Standard edition JupyterLab Python runtime provided by Cloudera',\n",
       "        'DS_RUNTIME_9M78TRNX1O8OJTB6_PORT_8100_TCP_PROTO': 'tcp',\n",
       "        'JUPYTER_SERVER_TIMEOUT_SECONDS': '300',\n",
       "        'DS_RUNTIME_C4G7IA7DJDP0H674_PORT_20049_TCP_ADDR': '172.20.14.94',\n",
       "        'SHLVL': '1',\n",
       "        'DS_RUNTIME_PRICE_REGRESSOR3_63_129_PORT_3000_TCP_ADDR': '172.20.155.224',\n",
       "        'PAGER': 'cat',\n",
       "        'HTTPS_PROXY': '',\n",
       "        'KUBERNETES_PORT_443_TCP_PROTO': 'tcp',\n",
       "        'HTTP_PROXY': '',\n",
       "        'CDSW_MEMORY_MB': '3933',\n",
       "        'DS_RUNTIME_9M78TRNX1O8OJTB6_PORT_8000_TCP_PORT': '8000',\n",
       "        'CDSW_PROJECT_URL': 'https://ml-59f361b4-aac.eng-ml-l.vnu8-sqze.cloudera.site/api/v1/projects/areed/continuous-monitoring-real',\n",
       "        'http_proxy': '',\n",
       "        'KUBERNETES_PORT_443_TCP_ADDR': '172.20.0.1',\n",
       "        'DS_RUNTIME_PRICE_REGRESSOR3_63_129_SERVICE_PORT_MODEL': '3000',\n",
       "        'DS_RUNTIME_C4G7IA7DJDP0H674_PORT_8000_TCP': 'tcp://172.20.14.94:8000',\n",
       "        'MPLBACKEND': 'module://ipykernel.pylab.backend_inline',\n",
       "        'CDSW_HOST_IP_ADDRESS': '',\n",
       "        'CDSW_NODE_NAME': 'ip-10-10-1-14.ec2.internal',\n",
       "        'ALL_PROXY': '',\n",
       "        'REQUESTS_CA_BUNDLE': '/etc/ssl/certs/ca-certificates.crt',\n",
       "        'DS_RUNTIME_9M78TRNX1O8OJTB6_SERVICE_PORT_TTY': '8000',\n",
       "        'DS_RUNTIME_C4G7IA7DJDP0H674_PORT_20049_TCP_PROTO': 'tcp',\n",
       "        'DS_RUNTIME_C4G7IA7DJDP0H674_PORT_8000_TCP_ADDR': '172.20.14.94',\n",
       "        'KUBERNETES_SERVICE_HOST': '172.20.0.1',\n",
       "        'LC_ALL': 'en_US.UTF-8',\n",
       "        'KUBERNETES_PORT': 'tcp://172.20.0.1:443',\n",
       "        'KUBERNETES_PORT_443_TCP_PORT': '443',\n",
       "        'DS_RUNTIME_9M78TRNX1O8OJTB6_PORT': 'tcp://172.20.34.211:20049',\n",
       "        'CDSW_ENGINE_URL': 'https://ml-59f361b4-aac.eng-ml-l.vnu8-sqze.cloudera.site/api/v1/projects/areed/continuous-monitoring-real/engines/9m78trnx1o8ojtb6',\n",
       "        'CDSW_IP_ADDRESS': '100.100.160.201',\n",
       "        'all_proxy': '',\n",
       "        'GIT_AUTHOR_NAME': 'Andrew Reed',\n",
       "        'DS_RUNTIME_9M78TRNX1O8OJTB6_SERVICE_PORT_PUBLIC': '8080',\n",
       "        'PATH': '/usr/lib/jvm/java-8-openjdk-amd64/bin:/home/cdsw/.local/bin:/usr/local/sbin:/usr/local/bin:/usr/sbin:/usr/bin:/sbin:/bin:/opt/conda/bin:/usr/lib/hadoop/bin:/usr/lib/hadoop-hdfs/bin',\n",
       "        'HADOOP_YARN_HOME': '/usr/lib/hadoop',\n",
       "        'DS_RUNTIME_9M78TRNX1O8OJTB6_PORT_8080_TCP_PROTO': 'tcp',\n",
       "        'ML_RUNTIME_MAINTENANCE_VERSION': '1',\n",
       "        'DS_RUNTIME_9M78TRNX1O8OJTB6_PORT_8090_TCP_PROTO': 'tcp',\n",
       "        'ML_RUNTIME_METADATA_VERSION': '1',\n",
       "        'DS_RUNTIME_C4G7IA7DJDP0H674_PORT_8000_TCP_PORT': '8000',\n",
       "        'DEBIAN_FRONTEND': 'noninteractive',\n",
       "        'CDSW_APIV2_KEY': 'e549e8e80975e4fc85afdc62740a54ebe95d52c3ef8e0a28450ab97641189fd0.c483c6c917b6739f2958cb702b3e7a2c7f63405dae8c55ee082123b4ceba9b0b',\n",
       "        'DS_RUNTIME_C4G7IA7DJDP0H674_PORT_8100_TCP': 'tcp://172.20.14.94:8100',\n",
       "        '_': '/usr/local/bin/jupyter',\n",
       "        'JPY_PARENT_PID': '137'}"
      ]
     },
     "execution_count": 7,
     "metadata": {},
     "output_type": "execute_result"
    }
   ],
   "source": [
    "os.environ"
   ]
  },
  {
   "cell_type": "code",
   "execution_count": null,
   "id": "2266810a-a881-4b33-a60a-c81314bb35ab",
   "metadata": {},
   "outputs": [],
   "source": []
  },
  {
   "cell_type": "code",
   "execution_count": 8,
   "id": "2c20243b-2ab3-45c1-b9c9-48abb129557f",
   "metadata": {},
   "outputs": [],
   "source": [
    "client = cmlapi.default_client()"
   ]
  },
  {
   "cell_type": "code",
   "execution_count": 25,
   "id": "3ff7c609-1793-4c17-b0b0-6f0d83098a50",
   "metadata": {},
   "outputs": [],
   "source": [
    "runtime_criteria = {\n",
    "    \"kernel\": \"Python 3.6\",\n",
    "    \"edition\": \"Standard\",\n",
    "    \"editor\": \"Workbench\",\n",
    "}\n",
    "runtimes = client.list_runtimes(search_filter=json.dumps(runtime_criteria)).to_dict()[\n",
    "    \"runtimes\"\n",
    "]"
   ]
  },
  {
   "cell_type": "code",
   "execution_count": 26,
   "id": "f35c28d9-e2c6-4844-917f-ef7c3e7cad8f",
   "metadata": {},
   "outputs": [
    {
     "data": {
      "text/plain": [
       "[{'image_identifier': 'docker.repository.cloudera.com/cdsw/ml-runtime-workbench-python3.6-standard:2020.11.1-b6',\n",
       "  'editor': 'Workbench',\n",
       "  'kernel': 'Python 3.6',\n",
       "  'edition': 'Standard',\n",
       "  'description': 'Standard edition Python runtime provided by Cloudera',\n",
       "  'full_version': '2020.11.1-b6'},\n",
       " {'image_identifier': 'docker.repository.cloudera.com/cdsw/ml-runtime-workbench-python3.6-standard:2021.02.1-b2',\n",
       "  'editor': 'Workbench',\n",
       "  'kernel': 'Python 3.6',\n",
       "  'edition': 'Standard',\n",
       "  'description': 'Standard edition Python runtime provided by Cloudera',\n",
       "  'full_version': '2021.02.1-b2'},\n",
       " {'image_identifier': 'docker.repository.cloudera.com/cdsw/ml-runtime-workbench-python3.6-standard:2021.06.1-b5',\n",
       "  'editor': 'Workbench',\n",
       "  'kernel': 'Python 3.6',\n",
       "  'edition': 'Standard',\n",
       "  'description': 'Standard edition Python runtime provided by Cloudera',\n",
       "  'full_version': '2021.06.1-b5'},\n",
       " {'image_identifier': 'docker.repository.cloudera.com/cdsw/ml-runtime-workbench-python3.6-standard:2021.09.1-b5',\n",
       "  'editor': 'Workbench',\n",
       "  'kernel': 'Python 3.6',\n",
       "  'edition': 'Standard',\n",
       "  'description': 'Standard edition Python runtime provided by Cloudera',\n",
       "  'full_version': '2021.09.1-b5'}]"
      ]
     },
     "execution_count": 26,
     "metadata": {},
     "output_type": "execute_result"
    }
   ],
   "source": [
    "runtimes"
   ]
  },
  {
   "cell_type": "code",
   "execution_count": 37,
   "id": "de7f7030-b5dc-447b-8ed7-95a901421b24",
   "metadata": {},
   "outputs": [],
   "source": [
    "from packaging import version"
   ]
  },
  {
   "cell_type": "code",
   "execution_count": null,
   "id": "04de81de-e8b4-4715-9459-79228fd73ec1",
   "metadata": {},
   "outputs": [],
   "source": []
  },
  {
   "cell_type": "code",
   "execution_count": 41,
   "id": "f07ea5a1-a47c-44f9-b302-71da2a92b673",
   "metadata": {},
   "outputs": [],
   "source": [
    "versions = {version.parse(rt[\"full_version\"]): i for i, rt in enumerate(runtimes)}"
   ]
  },
  {
   "cell_type": "code",
   "execution_count": 44,
   "id": "cec2b1a3-d3b1-4a78-8c42-7ae31f0c8b7c",
   "metadata": {},
   "outputs": [
    {
     "data": {
      "text/plain": [
       "<Version('2021.9.1b5')>"
      ]
     },
     "execution_count": 44,
     "metadata": {},
     "output_type": "execute_result"
    }
   ],
   "source": [
    "max(vs.keys())"
   ]
  },
  {
   "cell_type": "code",
   "execution_count": 45,
   "id": "2b945f62-4630-4188-aefa-aacb513e9bcf",
   "metadata": {},
   "outputs": [
    {
     "data": {
      "text/plain": [
       "3"
      ]
     },
     "execution_count": 45,
     "metadata": {},
     "output_type": "execute_result"
    }
   ],
   "source": [
    "vs[max(vs.keys())]"
   ]
  },
  {
   "cell_type": "code",
   "execution_count": 40,
   "id": "32885f61-8012-46f5-812b-01600cdf5710",
   "metadata": {},
   "outputs": [
    {
     "data": {
      "text/plain": [
       "<Version('2021.9.1b5')>"
      ]
     },
     "execution_count": 40,
     "metadata": {},
     "output_type": "execute_result"
    }
   ],
   "source": [
    "max(vs)"
   ]
  },
  {
   "cell_type": "code",
   "execution_count": 80,
   "id": "f7f69029-ebdb-4497-8122-d28daf05e9b9",
   "metadata": {},
   "outputs": [],
   "source": [
    "from packaging import version\n",
    "\n",
    "\n",
    "def get_latest_standard_runtime(client):\n",
    "    \"\"\"\n",
    "    Use CML APIv2 to identify and return the latest version of a Python 3.6,\n",
    "    Standard, Workbench Runtime\n",
    "    \"\"\"\n",
    "\n",
    "    try:\n",
    "        runtime_criteria = {\n",
    "            \"kernel\": \"Python 3.6\",\n",
    "            \"edition\": \"Standard\",\n",
    "            \"editor\": \"Workbench\",\n",
    "        }\n",
    "        runtimes = client.list_runtimes(\n",
    "            search_filter=json.dumps(runtime_criteria)\n",
    "        ).to_dict()[\"runtimes\"]\n",
    "\n",
    "        versions = {\n",
    "            version.parse(rt[\"full_version\"]): i for i, rt in enumerate(runtimes)\n",
    "        }\n",
    "        latest = versions[max(versions.keys())]\n",
    "\n",
    "        return runtimes[latest][\"image_identifier\"]\n",
    "\n",
    "    except:\n",
    "        logger.info(\"No matching runtime available.\")\n",
    "        return None"
   ]
  },
  {
   "cell_type": "code",
   "execution_count": 100,
   "id": "ab648201-a136-4be1-8b08-70fc82544aba",
   "metadata": {},
   "outputs": [
    {
     "data": {
      "text/plain": [
       "{'applications': [{'bypass_authentication': False,\n",
       "                   'cpu': 1.0,\n",
       "                   'created_at': datetime.datetime(2021, 12, 1, 16, 11, 36, 871607, tzinfo=tzlocal()),\n",
       "                   'creator': {'email': 'areed@cloudera.com',\n",
       "                               'name': 'Andrew Reed',\n",
       "                               'username': 'areed'},\n",
       "                   'description': 'An Evidently.ai dashboard for monitoring '\n",
       "                                  'data drift, target drift, and regression '\n",
       "                                  'performance.',\n",
       "                   'environment': '{}',\n",
       "                   'id': 'c5se-t54g-daov-qc26',\n",
       "                   'kernel': '',\n",
       "                   'memory': 2.0,\n",
       "                   'name': 'TEST Price Regressor Monitoring Dashboard',\n",
       "                   'nvidia_gpu': 0,\n",
       "                   'running_at': datetime.datetime(2021, 12, 1, 16, 11, 50, 692000, tzinfo=tzlocal()),\n",
       "                   'runtime_identifier': 'docker.repository.cloudera.com/cdsw/ml-runtime-workbench-python3.6-standard:2021.09.1-b5',\n",
       "                   'script': 'apps/app.py',\n",
       "                   'starting_at': datetime.datetime(2021, 12, 1, 16, 11, 50, 692000, tzinfo=tzlocal()),\n",
       "                   'status': 'APPLICATION_RUNNING',\n",
       "                   'stopped_at': None,\n",
       "                   'subdomain': 'evidently2',\n",
       "                   'updated_at': datetime.datetime(2021, 12, 1, 16, 11, 53, 439137, tzinfo=tzlocal())}],\n",
       " 'next_page_token': ''}"
      ]
     },
     "execution_count": 100,
     "metadata": {},
     "output_type": "execute_result"
    }
   ],
   "source": [
    "search_criteria = {\"name\": \"TEST Price Regressor Monitoring Dashboard\"}\n",
    "client.list_applications(\n",
    "    project_id=os.environ[\"CDSW_PROJECT_ID\"], search_filter=json.dumps(search_criteria)\n",
    ")"
   ]
  },
  {
   "cell_type": "code",
   "execution_count": 88,
   "id": "1fd26f32-e6e5-4b22-86c7-33a57bfd4607",
   "metadata": {},
   "outputs": [
    {
     "data": {
      "text/plain": [
       "{'bypass_authentication': False,\n",
       " 'cpu': 1.0,\n",
       " 'created_at': datetime.datetime(2021, 12, 1, 15, 58, 5, 125561, tzinfo=tzlocal()),\n",
       " 'creator': {'email': 'areed@cloudera.com',\n",
       "             'name': 'Andrew Reed',\n",
       "             'username': 'areed'},\n",
       " 'description': 'An Evidently.ai dashboard for monitoring data drift, target '\n",
       "                'drift, and regression performance.',\n",
       " 'environment': '{}',\n",
       " 'id': '1fmn-yw8j-mmto-xkax',\n",
       " 'kernel': '',\n",
       " 'memory': 2.0,\n",
       " 'name': 'TEST Price Regressor Monitoring Dashboard',\n",
       " 'nvidia_gpu': 0,\n",
       " 'running_at': None,\n",
       " 'runtime_identifier': 'docker.repository.cloudera.com/cdsw/ml-runtime-workbench-python3.6-standard:2021.09.1-b5',\n",
       " 'script': 'apps/app.py',\n",
       " 'starting_at': None,\n",
       " 'status': 'APPLICATION_STARTING',\n",
       " 'stopped_at': None,\n",
       " 'subdomain': 'evidently2',\n",
       " 'updated_at': datetime.datetime(2021, 12, 1, 16, 1, 32, 89251, tzinfo=tzlocal())}"
      ]
     },
     "execution_count": 88,
     "metadata": {},
     "output_type": "execute_result"
    }
   ],
   "source": [
    "client.restart_application(\n",
    "    project_id=os.environ[\"CDSW_PROJECT_ID\"], application_id=\"1fmn-yw8j-mmto-xkax\"\n",
    ")"
   ]
  },
  {
   "cell_type": "code",
   "execution_count": null,
   "id": "d0bfde05-d343-4044-9ae5-0d762c4c960c",
   "metadata": {},
   "outputs": [],
   "source": [
    "def restart_running_application(application_name):\n",
    "    \n",
    "    search_criteria = {\"name\": \"TEST Price Regressor Monitoring Dashboard\"}\n",
    "    app = client.list_applications(\n",
    "        project_id=os.environ[\"CDSW_PROJECT_ID\"], search_filter=json.dumps(search_criteria)\n",
    "    ).to_dict()[\"runtimes\"][0]\n",
    "    \n",
    "    client.restart_application(\n",
    "        project_id=os.environ[\"CDSW_PROJECT_ID\"], application_id=app['id']\n",
    "    )"
   ]
  },
  {
   "cell_type": "code",
   "execution_count": null,
   "id": "d85179b4-261d-4b56-8195-0b1b3430a855",
   "metadata": {},
   "outputs": [],
   "source": []
  },
  {
   "cell_type": "code",
   "execution_count": null,
   "id": "9e283920-4fe5-4f37-aab3-9d488c297455",
   "metadata": {},
   "outputs": [],
   "source": []
  },
  {
   "cell_type": "code",
   "execution_count": 106,
   "id": "ea147cb1-c3c2-4f45-8b5f-e1d9816a141b",
   "metadata": {},
   "outputs": [],
   "source": [
    "api = ApiUtility()"
   ]
  },
  {
   "cell_type": "code",
   "execution_count": 107,
   "id": "f6d6b818-2d63-4e3a-aa0b-5ba129c6384b",
   "metadata": {},
   "outputs": [],
   "source": [
    "api.restart_running_application(\n",
    "    application_name=\"TEST Price Regressor Monitoring Dashboard\"\n",
    ")"
   ]
  },
  {
   "cell_type": "code",
   "execution_count": 97,
   "id": "774b36e4-99e1-4542-994c-a1144cfa9a45",
   "metadata": {},
   "outputs": [
    {
     "data": {
      "text/plain": [
       "{'model_name': 'Price Regressor4',\n",
       " 'model_id': '8cdcd979-7c62-4587-bde3-703b846aa3f3',\n",
       " 'model_crn': 'crn:cdp:ml:us-west-1:12a0079b-1591-4ca0-b721-a446bda74e67:workspace:1e08299d-97ac-4d5e-8c21-d77745ce0a1c/8cdcd979-7c62-4587-bde3-703b846aa3f3',\n",
       " 'model_access_key': 'mm3q9rnx8n8qkqesympkbz7o3elsmxd9',\n",
       " 'latest_build_id': '95d8f085-69db-4781-a65f-d6b0a0d6a5cc',\n",
       " 'latest_deployment_crn': 'crn:cdp:ml:us-west-1:12a0079b-1591-4ca0-b721-a446bda74e67:workspace:1e08299d-97ac-4d5e-8c21-d77745ce0a1c/57766216-4dc8-439c-9677-76b30daa1868'}"
      ]
     },
     "execution_count": 97,
     "metadata": {},
     "output_type": "execute_result"
    }
   ],
   "source": [
    "api.get_latest_deployment_details(model_name=\"Price Regressor4\")"
   ]
  },
  {
   "cell_type": "code",
   "execution_count": 99,
   "id": "4cd9b26e-bbe7-48b2-a9af-b422a044a845",
   "metadata": {},
   "outputs": [],
   "source": [
    "api.deploy_monitoring_application()"
   ]
  },
  {
   "cell_type": "code",
   "execution_count": null,
   "id": "8d5510d8-7635-4462-b201-7e82a70f6355",
   "metadata": {},
   "outputs": [],
   "source": []
  },
  {
   "cell_type": "code",
   "execution_count": 108,
   "id": "47252e23-84d3-46ce-bc56-699069273283",
   "metadata": {},
   "outputs": [],
   "source": [
    "class ApiUtility:\n",
    "    def __init__(self):\n",
    "        self.client = cmlapi.default_client()\n",
    "\n",
    "    def get_latest_deployment_details(self, model_name):\n",
    "        \"\"\"\n",
    "        Given a APIv2 client object and Model Name, use APIv2 to retrieve details about the latest/current deployment.\n",
    "\n",
    "        This function only works for models deployed within the current project.\n",
    "        \"\"\"\n",
    "\n",
    "        project_id = os.environ[\"CDSW_PROJECT_ID\"]\n",
    "\n",
    "        # gather model details\n",
    "        models = (\n",
    "            self.client.list_models(project_id=project_id, async_req=True)\n",
    "            .get()\n",
    "            .to_dict()\n",
    "        )\n",
    "        model_info = [\n",
    "            model for model in models[\"models\"] if model[\"name\"] == model_name\n",
    "        ][0]\n",
    "\n",
    "        model_id = model_info[\"id\"]\n",
    "        model_crn = model_info[\"crn\"]\n",
    "        model_access_key = model_info[\"access_key\"]\n",
    "\n",
    "        # gather latest build details\n",
    "        builds = (\n",
    "            self.client.list_model_builds(\n",
    "                project_id=project_id, model_id=model_id, async_req=True\n",
    "            )\n",
    "            .get()\n",
    "            .to_dict()\n",
    "        )\n",
    "        build_info = builds[\"model_builds\"][-1]  # most recent build\n",
    "\n",
    "        build_id = build_info[\"id\"]\n",
    "\n",
    "        # gather latest deployment details\n",
    "        deployments = (\n",
    "            self.client.list_model_deployments(\n",
    "                project_id=project_id,\n",
    "                model_id=model_id,\n",
    "                build_id=build_id,\n",
    "                async_req=True,\n",
    "            )\n",
    "            .get()\n",
    "            .to_dict()\n",
    "        )\n",
    "        deployment_info = deployments[\"model_deployments\"][-1]  # most recent deployment\n",
    "\n",
    "        model_deployment_crn = deployment_info[\"crn\"]\n",
    "\n",
    "        return {\n",
    "            \"model_name\": model_name,\n",
    "            \"model_id\": model_id,\n",
    "            \"model_crn\": model_crn,\n",
    "            \"model_access_key\": model_access_key,\n",
    "            \"latest_build_id\": build_id,\n",
    "            \"latest_deployment_crn\": model_deployment_crn,\n",
    "        }\n",
    "\n",
    "    def get_latest_standard_runtime(self):\n",
    "        \"\"\"\n",
    "        Use CML APIv2 to identify and return the latest version of a Python 3.6,\n",
    "        Standard, Workbench Runtime\n",
    "        \"\"\"\n",
    "\n",
    "        try:\n",
    "            runtime_criteria = {\n",
    "                \"kernel\": \"Python 3.6\",\n",
    "                \"edition\": \"Standard\",\n",
    "                \"editor\": \"Workbench\",\n",
    "            }\n",
    "            runtimes = self.client.list_runtimes(\n",
    "                search_filter=json.dumps(runtime_criteria)\n",
    "            ).to_dict()[\"runtimes\"]\n",
    "\n",
    "            versions = {\n",
    "                version.parse(rt[\"full_version\"]): i for i, rt in enumerate(runtimes)\n",
    "            }\n",
    "            latest = versions[max(versions.keys())]\n",
    "\n",
    "            return runtimes[latest][\"image_identifier\"]\n",
    "\n",
    "        except:\n",
    "            logger.info(\"No matching runtime available.\")\n",
    "            return None\n",
    "\n",
    "    def deploy_monitoring_application(self):\n",
    "        \"\"\"\n",
    "        Use CML APIv2 to create and deploy an application to serve the Evidently\n",
    "        monitoring reports via a Flask application.\n",
    "\n",
    "        Utilize a runtime if available, else use legacy Python3 engine.\n",
    "\n",
    "        \"\"\"\n",
    "\n",
    "        ipt = {\n",
    "            \"name\": \"TEST Price Regressor Monitoring Dashboard\",\n",
    "            \"description\": \"An Evidently.ai dashboard for monitoring data drift, target drift, and regression performance.\",\n",
    "            \"project_id\": os.environ[\"CDSW_PROJECT_ID\"],\n",
    "            \"subdomain\": \"monitoring\",\n",
    "            \"script\": \"apps/app.py\",\n",
    "            \"cpu\": 1,\n",
    "            \"memory\": 2,\n",
    "        }\n",
    "\n",
    "        # configure runtime if available\n",
    "        runtime = get_latest_standard_runtime(self.client)\n",
    "        if runtime:\n",
    "            ipt[\"runtime_identifier\"] = runtime\n",
    "        else:\n",
    "            ipt[\"kernel\"] = \"python3\"\n",
    "\n",
    "        application_request = cmlapi.CreateApplicationRequest(**ipt)\n",
    "\n",
    "        self.client.create_application(\n",
    "            project_id=os.environ[\"CDSW_PROJECT_ID\"], body=application_request\n",
    "        )\n",
    "\n",
    "    def restart_running_application(self, application_name):\n",
    "        \"\"\"\n",
    "        Use CML APIv2 to restart a running application provided the application name.\n",
    "\n",
    "        \"\"\"\n",
    "\n",
    "        search_criteria = {\"name\": application_name}\n",
    "\n",
    "        app = self.client.list_applications(\n",
    "            project_id=os.environ[\"CDSW_PROJECT_ID\"],\n",
    "            search_filter=json.dumps(search_criteria),\n",
    "        ).to_dict()[\"applications\"][0]\n",
    "\n",
    "        client.restart_application(\n",
    "            project_id=os.environ[\"CDSW_PROJECT_ID\"], application_id=app[\"id\"]\n",
    "        )"
   ]
  },
  {
   "cell_type": "code",
   "execution_count": null,
   "id": "6027593b-0a56-44ad-917b-3c964a6dc8b6",
   "metadata": {},
   "outputs": [],
   "source": []
  },
  {
   "cell_type": "code",
   "execution_count": null,
   "id": "b0009ace-5cf1-44db-8e66-7db6c768c62c",
   "metadata": {},
   "outputs": [],
   "source": []
  },
  {
   "cell_type": "code",
   "execution_count": null,
   "id": "0c606f1b-1ee5-4d98-a6b5-0a8c095e8aff",
   "metadata": {},
   "outputs": [],
   "source": []
  },
  {
   "cell_type": "code",
   "execution_count": null,
   "id": "d7cc4a54-9c69-4a2e-8aa8-b11a32f42fd4",
   "metadata": {},
   "outputs": [],
   "source": []
  },
  {
   "cell_type": "code",
   "execution_count": null,
   "id": "21614a8d-6c30-46eb-bda1-6d63b46603f6",
   "metadata": {},
   "outputs": [],
   "source": []
  },
  {
   "cell_type": "code",
   "execution_count": null,
   "id": "3933dc83-9077-4d24-aad1-7e6d325fb15b",
   "metadata": {},
   "outputs": [],
   "source": []
  },
  {
   "cell_type": "code",
   "execution_count": null,
   "id": "2f75976f-913e-4de8-978f-a209597ed1c5",
   "metadata": {},
   "outputs": [],
   "source": []
  },
  {
   "cell_type": "code",
   "execution_count": null,
   "id": "f25e5533-35bb-4885-a865-77d4dc93b3ca",
   "metadata": {},
   "outputs": [],
   "source": []
  },
  {
   "cell_type": "code",
   "execution_count": null,
   "id": "54f794c6-060c-4e45-963f-615a10e879f2",
   "metadata": {},
   "outputs": [],
   "source": []
  },
  {
   "cell_type": "code",
   "execution_count": null,
   "id": "978ac096-f872-4a99-a643-4324884168fc",
   "metadata": {},
   "outputs": [],
   "source": [
    "PROJECT_ID = os.environ['CDSW_PROJECT_ID']"
   ]
  },
  {
   "cell_type": "code",
   "execution_count": null,
   "id": "4df9b55f-011a-421d-a265-067c984a394c",
   "metadata": {},
   "outputs": [],
   "source": [
    "# This creates a simple application. If using runtimes, the runtime_identifier must be specified.\n",
    "application_request = cmlapi.CreateApplicationRequest(\n",
    "    name = \"Price Regressor Monitoring Dashboard\"\n",
    "    description = \"An Evidently.ai dashboard for monitoring data drift, target drift, and regression performance.\",\n",
    "    project_id = PROJECT_ID,\n",
    "    subdomain = \"evidently\"\n",
    "    kernel = \"python3\",\n",
    "    script = \"entry.py\",\n",
    ")"
   ]
  },
  {
   "cell_type": "code",
   "execution_count": null,
   "id": "a801ef22-2e63-4678-90c5-8f772bc0781d",
   "metadata": {},
   "outputs": [],
   "source": [
    "app = client.create_application(\n",
    "    project_id = project_id,\n",
    "    body = application_request\n",
    ")"
   ]
  }
 ],
 "metadata": {
  "kernelspec": {
   "display_name": "Python 3",
   "language": "python",
   "name": "python3"
  },
  "language_info": {
   "codemirror_mode": {
    "name": "ipython",
    "version": 3
   },
   "file_extension": ".py",
   "mimetype": "text/x-python",
   "name": "python",
   "nbconvert_exporter": "python",
   "pygments_lexer": "ipython3",
   "version": "3.6.14"
  }
 },
 "nbformat": 4,
 "nbformat_minor": 5
}
