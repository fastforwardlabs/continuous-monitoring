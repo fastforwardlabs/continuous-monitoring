{
 "cells": [
  {
   "cell_type": "markdown",
   "id": "2ed05709-d11f-43d3-9431-04eb3fdf7ead",
   "metadata": {},
   "source": [
    "# Simulation"
   ]
  },
  {
   "cell_type": "code",
   "execution_count": 4,
   "id": "4be4bce9-ce8f-4c2e-872c-de6c036aa7e5",
   "metadata": {},
   "outputs": [],
   "source": [
    "# Install cmlapi package\n",
    "try:\n",
    "    import cmlapi\n",
    "except ModuleNotFoundError:\n",
    "    cluster = os.getenv(\"CDSW_API_URL\")[:-1] + \"2\"\n",
    "    !pip3 install {cluster}/python.tar.gz\n",
    "    import cmlapi\n",
    "\n",
    "import cdsw\n",
    "import logging\n",
    "import numpy as np\n",
    "import pandas as pd\n",
    "from typing import Dict\n",
    "from pandas.tseries.offsets import DateOffset\n",
    "\n",
    "from utils.inference_utils import ThreadedModelRequest\n",
    "from utils.simulation_utils import Simulation\n",
    "\n",
    "%load_ext lab_black\n",
    "%load_ext autoreload\n",
    "%autoreload 2"
   ]
  },
  {
   "cell_type": "code",
   "execution_count": 5,
   "id": "132baa75-05a6-4b2d-af37-1fb227b0b6d5",
   "metadata": {},
   "outputs": [],
   "source": [
    "DEV_MODE = True\n",
    "\n",
    "train_path = \"../data/working/train_df.pkl\"\n",
    "prod_path = \"../data/working/prod_df.pkl\"\n",
    "\n",
    "train_df = pd.read_pickle(train_path)\n",
    "prod_df = pd.read_pickle(prod_path)\n",
    "\n",
    "if DEV_MODE == True:\n",
    "    train_df = train_df.sample(frac=0.05, random_state=42)\n",
    "    prod_df = prod_df.sample(frac=0.05, random_state=42)"
   ]
  },
  {
   "cell_type": "code",
   "execution_count": 6,
   "id": "17deb32e-54c5-4362-989b-cf65908d74f1",
   "metadata": {},
   "outputs": [],
   "source": [
    "sim = Simulation(model_name=\"Price Regressor4\")"
   ]
  },
  {
   "cell_type": "code",
   "execution_count": 8,
   "id": "f9f369a3-58d8-4e83-acd5-d0d48092adac",
   "metadata": {},
   "outputs": [
    {
     "name": "stderr",
     "output_type": "stream",
     "text": [
      "/home/cdsw/.local/lib/python3.6/site-packages/scipy/stats/stats.py:5982: RuntimeWarning:\n",
      "\n",
      "divide by zero encountered in true_divide\n",
      "\n",
      "/home/cdsw/.local/lib/python3.6/site-packages/scipy/stats/stats.py:5982: RuntimeWarning:\n",
      "\n",
      "divide by zero encountered in true_divide\n",
      "\n",
      "/home/cdsw/.local/lib/python3.6/site-packages/scipy/stats/stats.py:5982: RuntimeWarning:\n",
      "\n",
      "divide by zero encountered in true_divide\n",
      "\n",
      "/home/cdsw/.local/lib/python3.6/site-packages/scipy/stats/stats.py:5982: RuntimeWarning:\n",
      "\n",
      "divide by zero encountered in true_divide\n",
      "\n"
     ]
    }
   ],
   "source": [
    "sim.run_simulation(train_df, prod_df)"
   ]
  },
  {
   "cell_type": "code",
   "execution_count": null,
   "id": "f588cf58-4566-450c-8d89-2a568570b23d",
   "metadata": {},
   "outputs": [],
   "source": []
  }
 ],
 "metadata": {
  "kernelspec": {
   "display_name": "Python 3",
   "language": "python",
   "name": "python3"
  },
  "language_info": {
   "codemirror_mode": {
    "name": "ipython",
    "version": 3
   },
   "file_extension": ".py",
   "mimetype": "text/x-python",
   "name": "python",
   "nbconvert_exporter": "python",
   "pygments_lexer": "ipython3",
   "version": "3.6.14"
  },
  "toc-autonumbering": true,
  "toc-showmarkdowntxt": true,
  "toc-showtags": false
 },
 "nbformat": 4,
 "nbformat_minor": 5
}
